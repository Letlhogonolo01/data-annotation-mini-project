{
  "nbformat": 4,
  "nbformat_minor": 0,
  "metadata": {
    "colab": {
      "provenance": [],
      "authorship_tag": "ABX9TyPGLD0Pi/CngEBGZsM26uBF",
      "include_colab_link": true
    },
    "kernelspec": {
      "name": "python3",
      "display_name": "Python 3"
    },
    "language_info": {
      "name": "python"
    }
  },
  "cells": [
    {
      "cell_type": "markdown",
      "metadata": {
        "id": "view-in-github",
        "colab_type": "text"
      },
      "source": [
        "<a href=\"https://colab.research.google.com/github/Letlhogonolo01/data-annotation-mini-project/blob/main/SA_Patent_Intelligence_Initiative_(SAPII).ipynb\" target=\"_parent\"><img src=\"https://colab.research.google.com/assets/colab-badge.svg\" alt=\"Open In Colab\"/></a>"
      ]
    },
    {
      "cell_type": "code",
      "source": [
        "# This is how I Uploaded the PDF's to Google Colab\n",
        "\n",
        "from google.colab import files\n",
        "\n",
        "uploaded = files.upload()  # This opens a file upload dialog"
      ],
      "metadata": {
        "colab": {
          "base_uri": "https://localhost:8080/",
          "height": 142
        },
        "id": "jbl7XOVBcUGK",
        "outputId": "75006377-1c2d-4d9c-eff9-cdcaa4030274"
      },
      "execution_count": 1,
      "outputs": [
        {
          "output_type": "display_data",
          "data": {
            "text/plain": [
              "<IPython.core.display.HTML object>"
            ],
            "text/html": [
              "\n",
              "     <input type=\"file\" id=\"files-78def103-a6d8-4e7b-a71d-09d7b6d056e8\" name=\"files[]\" multiple disabled\n",
              "        style=\"border:none\" />\n",
              "     <output id=\"result-78def103-a6d8-4e7b-a71d-09d7b6d056e8\">\n",
              "      Upload widget is only available when the cell has been executed in the\n",
              "      current browser session. Please rerun this cell to enable.\n",
              "      </output>\n",
              "      <script>// Copyright 2017 Google LLC\n",
              "//\n",
              "// Licensed under the Apache License, Version 2.0 (the \"License\");\n",
              "// you may not use this file except in compliance with the License.\n",
              "// You may obtain a copy of the License at\n",
              "//\n",
              "//      http://www.apache.org/licenses/LICENSE-2.0\n",
              "//\n",
              "// Unless required by applicable law or agreed to in writing, software\n",
              "// distributed under the License is distributed on an \"AS IS\" BASIS,\n",
              "// WITHOUT WARRANTIES OR CONDITIONS OF ANY KIND, either express or implied.\n",
              "// See the License for the specific language governing permissions and\n",
              "// limitations under the License.\n",
              "\n",
              "/**\n",
              " * @fileoverview Helpers for google.colab Python module.\n",
              " */\n",
              "(function(scope) {\n",
              "function span(text, styleAttributes = {}) {\n",
              "  const element = document.createElement('span');\n",
              "  element.textContent = text;\n",
              "  for (const key of Object.keys(styleAttributes)) {\n",
              "    element.style[key] = styleAttributes[key];\n",
              "  }\n",
              "  return element;\n",
              "}\n",
              "\n",
              "// Max number of bytes which will be uploaded at a time.\n",
              "const MAX_PAYLOAD_SIZE = 100 * 1024;\n",
              "\n",
              "function _uploadFiles(inputId, outputId) {\n",
              "  const steps = uploadFilesStep(inputId, outputId);\n",
              "  const outputElement = document.getElementById(outputId);\n",
              "  // Cache steps on the outputElement to make it available for the next call\n",
              "  // to uploadFilesContinue from Python.\n",
              "  outputElement.steps = steps;\n",
              "\n",
              "  return _uploadFilesContinue(outputId);\n",
              "}\n",
              "\n",
              "// This is roughly an async generator (not supported in the browser yet),\n",
              "// where there are multiple asynchronous steps and the Python side is going\n",
              "// to poll for completion of each step.\n",
              "// This uses a Promise to block the python side on completion of each step,\n",
              "// then passes the result of the previous step as the input to the next step.\n",
              "function _uploadFilesContinue(outputId) {\n",
              "  const outputElement = document.getElementById(outputId);\n",
              "  const steps = outputElement.steps;\n",
              "\n",
              "  const next = steps.next(outputElement.lastPromiseValue);\n",
              "  return Promise.resolve(next.value.promise).then((value) => {\n",
              "    // Cache the last promise value to make it available to the next\n",
              "    // step of the generator.\n",
              "    outputElement.lastPromiseValue = value;\n",
              "    return next.value.response;\n",
              "  });\n",
              "}\n",
              "\n",
              "/**\n",
              " * Generator function which is called between each async step of the upload\n",
              " * process.\n",
              " * @param {string} inputId Element ID of the input file picker element.\n",
              " * @param {string} outputId Element ID of the output display.\n",
              " * @return {!Iterable<!Object>} Iterable of next steps.\n",
              " */\n",
              "function* uploadFilesStep(inputId, outputId) {\n",
              "  const inputElement = document.getElementById(inputId);\n",
              "  inputElement.disabled = false;\n",
              "\n",
              "  const outputElement = document.getElementById(outputId);\n",
              "  outputElement.innerHTML = '';\n",
              "\n",
              "  const pickedPromise = new Promise((resolve) => {\n",
              "    inputElement.addEventListener('change', (e) => {\n",
              "      resolve(e.target.files);\n",
              "    });\n",
              "  });\n",
              "\n",
              "  const cancel = document.createElement('button');\n",
              "  inputElement.parentElement.appendChild(cancel);\n",
              "  cancel.textContent = 'Cancel upload';\n",
              "  const cancelPromise = new Promise((resolve) => {\n",
              "    cancel.onclick = () => {\n",
              "      resolve(null);\n",
              "    };\n",
              "  });\n",
              "\n",
              "  // Wait for the user to pick the files.\n",
              "  const files = yield {\n",
              "    promise: Promise.race([pickedPromise, cancelPromise]),\n",
              "    response: {\n",
              "      action: 'starting',\n",
              "    }\n",
              "  };\n",
              "\n",
              "  cancel.remove();\n",
              "\n",
              "  // Disable the input element since further picks are not allowed.\n",
              "  inputElement.disabled = true;\n",
              "\n",
              "  if (!files) {\n",
              "    return {\n",
              "      response: {\n",
              "        action: 'complete',\n",
              "      }\n",
              "    };\n",
              "  }\n",
              "\n",
              "  for (const file of files) {\n",
              "    const li = document.createElement('li');\n",
              "    li.append(span(file.name, {fontWeight: 'bold'}));\n",
              "    li.append(span(\n",
              "        `(${file.type || 'n/a'}) - ${file.size} bytes, ` +\n",
              "        `last modified: ${\n",
              "            file.lastModifiedDate ? file.lastModifiedDate.toLocaleDateString() :\n",
              "                                    'n/a'} - `));\n",
              "    const percent = span('0% done');\n",
              "    li.appendChild(percent);\n",
              "\n",
              "    outputElement.appendChild(li);\n",
              "\n",
              "    const fileDataPromise = new Promise((resolve) => {\n",
              "      const reader = new FileReader();\n",
              "      reader.onload = (e) => {\n",
              "        resolve(e.target.result);\n",
              "      };\n",
              "      reader.readAsArrayBuffer(file);\n",
              "    });\n",
              "    // Wait for the data to be ready.\n",
              "    let fileData = yield {\n",
              "      promise: fileDataPromise,\n",
              "      response: {\n",
              "        action: 'continue',\n",
              "      }\n",
              "    };\n",
              "\n",
              "    // Use a chunked sending to avoid message size limits. See b/62115660.\n",
              "    let position = 0;\n",
              "    do {\n",
              "      const length = Math.min(fileData.byteLength - position, MAX_PAYLOAD_SIZE);\n",
              "      const chunk = new Uint8Array(fileData, position, length);\n",
              "      position += length;\n",
              "\n",
              "      const base64 = btoa(String.fromCharCode.apply(null, chunk));\n",
              "      yield {\n",
              "        response: {\n",
              "          action: 'append',\n",
              "          file: file.name,\n",
              "          data: base64,\n",
              "        },\n",
              "      };\n",
              "\n",
              "      let percentDone = fileData.byteLength === 0 ?\n",
              "          100 :\n",
              "          Math.round((position / fileData.byteLength) * 100);\n",
              "      percent.textContent = `${percentDone}% done`;\n",
              "\n",
              "    } while (position < fileData.byteLength);\n",
              "  }\n",
              "\n",
              "  // All done.\n",
              "  yield {\n",
              "    response: {\n",
              "      action: 'complete',\n",
              "    }\n",
              "  };\n",
              "}\n",
              "\n",
              "scope.google = scope.google || {};\n",
              "scope.google.colab = scope.google.colab || {};\n",
              "scope.google.colab._files = {\n",
              "  _uploadFiles,\n",
              "  _uploadFilesContinue,\n",
              "};\n",
              "})(self);\n",
              "</script> "
            ]
          },
          "metadata": {}
        },
        {
          "output_type": "stream",
          "name": "stdout",
          "text": [
            "Saving bluetooth_200606656A.pdf to bluetooth_200606656A.pdf\n",
            "Saving container_198906224A.pdf to container_198906224A.pdf\n",
            "Saving vending_machine_199809818B.pdf to vending_machine_199809818B.pdf\n"
          ]
        }
      ]
    },
    {
      "cell_type": "code",
      "source": [
        "# Install Tesseract OCR and Required Libraries\n",
        "\n",
        "!apt-get install -y poppler-utils\n",
        "!apt-get install -y tesseract-ocr\n",
        "!pip install pytesseract pdf2image pillow"
      ],
      "metadata": {
        "colab": {
          "base_uri": "https://localhost:8080/"
        },
        "id": "yO0uqXXjcW_K",
        "outputId": "8e4c25f7-d93b-4591-ea58-3065febb6610"
      },
      "execution_count": 2,
      "outputs": [
        {
          "output_type": "stream",
          "name": "stdout",
          "text": [
            "Reading package lists... Done\n",
            "Building dependency tree... Done\n",
            "Reading state information... Done\n",
            "The following NEW packages will be installed:\n",
            "  poppler-utils\n",
            "0 upgraded, 1 newly installed, 0 to remove and 29 not upgraded.\n",
            "Need to get 186 kB of archives.\n",
            "After this operation, 696 kB of additional disk space will be used.\n",
            "Get:1 http://archive.ubuntu.com/ubuntu jammy-updates/main amd64 poppler-utils amd64 22.02.0-2ubuntu0.6 [186 kB]\n",
            "Fetched 186 kB in 0s (464 kB/s)\n",
            "Selecting previously unselected package poppler-utils.\n",
            "(Reading database ... 124947 files and directories currently installed.)\n",
            "Preparing to unpack .../poppler-utils_22.02.0-2ubuntu0.6_amd64.deb ...\n",
            "Unpacking poppler-utils (22.02.0-2ubuntu0.6) ...\n",
            "Setting up poppler-utils (22.02.0-2ubuntu0.6) ...\n",
            "Processing triggers for man-db (2.10.2-1) ...\n",
            "Reading package lists... Done\n",
            "Building dependency tree... Done\n",
            "Reading state information... Done\n",
            "The following additional packages will be installed:\n",
            "  tesseract-ocr-eng tesseract-ocr-osd\n",
            "The following NEW packages will be installed:\n",
            "  tesseract-ocr tesseract-ocr-eng tesseract-ocr-osd\n",
            "0 upgraded, 3 newly installed, 0 to remove and 29 not upgraded.\n",
            "Need to get 4,816 kB of archives.\n",
            "After this operation, 15.6 MB of additional disk space will be used.\n",
            "Get:1 http://archive.ubuntu.com/ubuntu jammy/universe amd64 tesseract-ocr-eng all 1:4.00~git30-7274cfa-1.1 [1,591 kB]\n",
            "Get:2 http://archive.ubuntu.com/ubuntu jammy/universe amd64 tesseract-ocr-osd all 1:4.00~git30-7274cfa-1.1 [2,990 kB]\n",
            "Get:3 http://archive.ubuntu.com/ubuntu jammy/universe amd64 tesseract-ocr amd64 4.1.1-2.1build1 [236 kB]\n",
            "Fetched 4,816 kB in 1s (9,312 kB/s)\n",
            "Selecting previously unselected package tesseract-ocr-eng.\n",
            "(Reading database ... 124977 files and directories currently installed.)\n",
            "Preparing to unpack .../tesseract-ocr-eng_1%3a4.00~git30-7274cfa-1.1_all.deb ...\n",
            "Unpacking tesseract-ocr-eng (1:4.00~git30-7274cfa-1.1) ...\n",
            "Selecting previously unselected package tesseract-ocr-osd.\n",
            "Preparing to unpack .../tesseract-ocr-osd_1%3a4.00~git30-7274cfa-1.1_all.deb ...\n",
            "Unpacking tesseract-ocr-osd (1:4.00~git30-7274cfa-1.1) ...\n",
            "Selecting previously unselected package tesseract-ocr.\n",
            "Preparing to unpack .../tesseract-ocr_4.1.1-2.1build1_amd64.deb ...\n",
            "Unpacking tesseract-ocr (4.1.1-2.1build1) ...\n",
            "Setting up tesseract-ocr-eng (1:4.00~git30-7274cfa-1.1) ...\n",
            "Setting up tesseract-ocr-osd (1:4.00~git30-7274cfa-1.1) ...\n",
            "Setting up tesseract-ocr (4.1.1-2.1build1) ...\n",
            "Processing triggers for man-db (2.10.2-1) ...\n",
            "Collecting pytesseract\n",
            "  Downloading pytesseract-0.3.13-py3-none-any.whl.metadata (11 kB)\n",
            "Collecting pdf2image\n",
            "  Downloading pdf2image-1.17.0-py3-none-any.whl.metadata (6.2 kB)\n",
            "Requirement already satisfied: pillow in /usr/local/lib/python3.11/dist-packages (11.1.0)\n",
            "Requirement already satisfied: packaging>=21.3 in /usr/local/lib/python3.11/dist-packages (from pytesseract) (24.2)\n",
            "Downloading pytesseract-0.3.13-py3-none-any.whl (14 kB)\n",
            "Downloading pdf2image-1.17.0-py3-none-any.whl (11 kB)\n",
            "Installing collected packages: pytesseract, pdf2image\n",
            "Successfully installed pdf2image-1.17.0 pytesseract-0.3.13\n"
          ]
        }
      ]
    },
    {
      "cell_type": "code",
      "source": [
        "#This code extracts text from the uploaded PDF and save it to .txt\n",
        "\n",
        "import pytesseract\n",
        "from pdf2image import convert_from_path\n",
        "import os\n",
        "\n",
        "# Define PDF file paths (Replace these with your actual uploaded file names)\n",
        "pdf_files = [\n",
        "    \"bluetooth_200606656A.pdf\",\n",
        "    \"container_198906224A.pdf\",\n",
        "    \"vending_machine_199809818B.pdf\"\n",
        "]\n",
        "\n",
        "# Process each PDF\n",
        "for pdf_path in pdf_files:\n",
        "    # Convert PDF pages to images\n",
        "    pages = convert_from_path(pdf_path)\n",
        "\n",
        "    # Extract text from each page\n",
        "    extracted_text = \"\\n\".join([pytesseract.image_to_string(page) for page in pages])\n",
        "\n",
        "    # Define output text filename\n",
        "    txt_filename = pdf_path.split(\"/\")[-1].replace(\".pdf\", \".txt\")\n",
        "\n",
        "    # Save extracted text\n",
        "    with open(f\"{txt_filename}\", \"w\", encoding=\"utf-8\") as f:\n",
        "        f.write(extracted_text)\n",
        "\n",
        "    print(f\"✅ Text extraction complete for {pdf_path}! Saved as {txt_filename}\")\n",
        "\n",
        "\n",
        "\n"
      ],
      "metadata": {
        "colab": {
          "base_uri": "https://localhost:8080/"
        },
        "id": "c3QOzIBiksMh",
        "outputId": "0087594d-31e9-41ae-8342-9a679240a870"
      },
      "execution_count": 3,
      "outputs": [
        {
          "output_type": "stream",
          "name": "stdout",
          "text": [
            "✅ Text extraction complete for bluetooth_200606656A.pdf! Saved as bluetooth_200606656A.txt\n",
            "✅ Text extraction complete for container_198906224A.pdf! Saved as container_198906224A.txt\n",
            "✅ Text extraction complete for vending_machine_199809818B.pdf! Saved as vending_machine_199809818B.txt\n"
          ]
        }
      ]
    },
    {
      "cell_type": "code",
      "source": [
        "# Verify Extracted Text\n",
        "\n",
        "# Choose one file to preview (change filename if needed)\n",
        "preview_file = \"container_198906224A.txt\"\n",
        "\n",
        "# Read and display first 1000 characters\n",
        "with open(preview_file, \"r\", encoding=\"utf-8\") as f:\n",
        "    preview_text = f.read()\n",
        "\n",
        "print(preview_text[:1000])  # Show first 1000 characters"
      ],
      "metadata": {
        "colab": {
          "base_uri": "https://localhost:8080/"
        },
        "id": "CoZPYtWrQPZc",
        "outputId": "544bc13f-d224-460b-9ba4-477a3fcd5980"
      },
      "execution_count": 4,
      "outputs": [
        {
          "output_type": "stream",
          "name": "stdout",
          "text": [
            "SPOOR\n",
            "\n",
            "   \n",
            "\n",
            " \n",
            "\n",
            "AND FISHER : FORM P.8.\n",
            "(To be lodged in duplicate}\n",
            "\n",
            "REPUBLIC OF SOUTH AFRICA\n",
            "PATENTS ACT, 1978\n",
            "\n",
            "PUBLICATION PARTICULARS AND ABSTRACT\n",
            "(Section 32(3}{a) — Regulations 22(1)(g) and 31)\n",
            "\n",
            "OFFICIAL APPLICATION NO. LODGING DATE ACCEPTANCE DATE\n",
            "\n",
            "NOT FOR PUBLICATION\n",
            "\n",
            "CLASSIFIED BY:\n",
            "\n",
            "SFE\n",
            "\n",
            " \n",
            "\n",
            "FULL NAME(S) OF APPLICANT(S)\n",
            "PLASTICON PATENTS, S.A.\n",
            "\n",
            " \n",
            "\n",
            "FULL NAME(S) OF tNVENTOR(S)\n",
            "\n",
            "Herbert STRASSHEIMER\n",
            "\n",
            " \n",
            "\n",
            "EARLIEST PRIORITY CLAIMED\n",
            "\n",
            "COUNTRY NUMBER . DATE\n",
            "\n",
            "262,781 26.16.88\n",
            "\n",
            "TITLE OF [INVENTION\n",
            "\n",
            "CONTAINER\n",
            "\n",
            "ABSTRACT (NOT MORE THAN 150 WORDS) NUMBER OF SHEETS 22 A ‘3\n",
            "\n",
            "*1f no classification Is furnished. Form P.9 should accompany this form\n",
            "The figure of the drawings to which the abstract refers Is attached\n",
            "\f\n",
            "A ABSTRACT OF THE DISCLOSUPE\n",
            "Ss\n",
            "\n",
            "A plastic prefcrm for fcerming Flow molded plastic\n",
            "containers wherein the inside wall face cf the tubular\n",
            "boéy portion adjacent the bottom structure and extending\n",
            "onto the bottom structure has a plurality of faces with\n",
            "termina] portions thereof. Scallop-s\n"
          ]
        }
      ]
    },
    {
      "cell_type": "code",
      "source": [
        "# Download all extracted text files\n",
        "\n",
        "for pdf_path in pdf_files:\n",
        "    output_filename = pdf_path.split(\"/\")[-1].replace(\".pdf\", \".txt\")\n",
        "    files.download(output_filename)\n",
        "\n"
      ],
      "metadata": {
        "colab": {
          "base_uri": "https://localhost:8080/",
          "height": 17
        },
        "id": "AwAqRxYbzbKh",
        "outputId": "2dd7a65b-e897-4348-c7e1-8e9353c2fddb"
      },
      "execution_count": 5,
      "outputs": [
        {
          "output_type": "display_data",
          "data": {
            "text/plain": [
              "<IPython.core.display.Javascript object>"
            ],
            "application/javascript": [
              "\n",
              "    async function download(id, filename, size) {\n",
              "      if (!google.colab.kernel.accessAllowed) {\n",
              "        return;\n",
              "      }\n",
              "      const div = document.createElement('div');\n",
              "      const label = document.createElement('label');\n",
              "      label.textContent = `Downloading \"${filename}\": `;\n",
              "      div.appendChild(label);\n",
              "      const progress = document.createElement('progress');\n",
              "      progress.max = size;\n",
              "      div.appendChild(progress);\n",
              "      document.body.appendChild(div);\n",
              "\n",
              "      const buffers = [];\n",
              "      let downloaded = 0;\n",
              "\n",
              "      const channel = await google.colab.kernel.comms.open(id);\n",
              "      // Send a message to notify the kernel that we're ready.\n",
              "      channel.send({})\n",
              "\n",
              "      for await (const message of channel.messages) {\n",
              "        // Send a message to notify the kernel that we're ready.\n",
              "        channel.send({})\n",
              "        if (message.buffers) {\n",
              "          for (const buffer of message.buffers) {\n",
              "            buffers.push(buffer);\n",
              "            downloaded += buffer.byteLength;\n",
              "            progress.value = downloaded;\n",
              "          }\n",
              "        }\n",
              "      }\n",
              "      const blob = new Blob(buffers, {type: 'application/binary'});\n",
              "      const a = document.createElement('a');\n",
              "      a.href = window.URL.createObjectURL(blob);\n",
              "      a.download = filename;\n",
              "      div.appendChild(a);\n",
              "      a.click();\n",
              "      div.remove();\n",
              "    }\n",
              "  "
            ]
          },
          "metadata": {}
        },
        {
          "output_type": "display_data",
          "data": {
            "text/plain": [
              "<IPython.core.display.Javascript object>"
            ],
            "application/javascript": [
              "download(\"download_01b85ef0-fd45-449b-a2f6-c6fe8b50299a\", \"bluetooth_200606656A.txt\", 25531)"
            ]
          },
          "metadata": {}
        },
        {
          "output_type": "display_data",
          "data": {
            "text/plain": [
              "<IPython.core.display.Javascript object>"
            ],
            "application/javascript": [
              "\n",
              "    async function download(id, filename, size) {\n",
              "      if (!google.colab.kernel.accessAllowed) {\n",
              "        return;\n",
              "      }\n",
              "      const div = document.createElement('div');\n",
              "      const label = document.createElement('label');\n",
              "      label.textContent = `Downloading \"${filename}\": `;\n",
              "      div.appendChild(label);\n",
              "      const progress = document.createElement('progress');\n",
              "      progress.max = size;\n",
              "      div.appendChild(progress);\n",
              "      document.body.appendChild(div);\n",
              "\n",
              "      const buffers = [];\n",
              "      let downloaded = 0;\n",
              "\n",
              "      const channel = await google.colab.kernel.comms.open(id);\n",
              "      // Send a message to notify the kernel that we're ready.\n",
              "      channel.send({})\n",
              "\n",
              "      for await (const message of channel.messages) {\n",
              "        // Send a message to notify the kernel that we're ready.\n",
              "        channel.send({})\n",
              "        if (message.buffers) {\n",
              "          for (const buffer of message.buffers) {\n",
              "            buffers.push(buffer);\n",
              "            downloaded += buffer.byteLength;\n",
              "            progress.value = downloaded;\n",
              "          }\n",
              "        }\n",
              "      }\n",
              "      const blob = new Blob(buffers, {type: 'application/binary'});\n",
              "      const a = document.createElement('a');\n",
              "      a.href = window.URL.createObjectURL(blob);\n",
              "      a.download = filename;\n",
              "      div.appendChild(a);\n",
              "      a.click();\n",
              "      div.remove();\n",
              "    }\n",
              "  "
            ]
          },
          "metadata": {}
        },
        {
          "output_type": "display_data",
          "data": {
            "text/plain": [
              "<IPython.core.display.Javascript object>"
            ],
            "application/javascript": [
              "download(\"download_e2d79195-4ff1-4386-a32c-dc7675add553\", \"container_198906224A.txt\", 20546)"
            ]
          },
          "metadata": {}
        },
        {
          "output_type": "display_data",
          "data": {
            "text/plain": [
              "<IPython.core.display.Javascript object>"
            ],
            "application/javascript": [
              "\n",
              "    async function download(id, filename, size) {\n",
              "      if (!google.colab.kernel.accessAllowed) {\n",
              "        return;\n",
              "      }\n",
              "      const div = document.createElement('div');\n",
              "      const label = document.createElement('label');\n",
              "      label.textContent = `Downloading \"${filename}\": `;\n",
              "      div.appendChild(label);\n",
              "      const progress = document.createElement('progress');\n",
              "      progress.max = size;\n",
              "      div.appendChild(progress);\n",
              "      document.body.appendChild(div);\n",
              "\n",
              "      const buffers = [];\n",
              "      let downloaded = 0;\n",
              "\n",
              "      const channel = await google.colab.kernel.comms.open(id);\n",
              "      // Send a message to notify the kernel that we're ready.\n",
              "      channel.send({})\n",
              "\n",
              "      for await (const message of channel.messages) {\n",
              "        // Send a message to notify the kernel that we're ready.\n",
              "        channel.send({})\n",
              "        if (message.buffers) {\n",
              "          for (const buffer of message.buffers) {\n",
              "            buffers.push(buffer);\n",
              "            downloaded += buffer.byteLength;\n",
              "            progress.value = downloaded;\n",
              "          }\n",
              "        }\n",
              "      }\n",
              "      const blob = new Blob(buffers, {type: 'application/binary'});\n",
              "      const a = document.createElement('a');\n",
              "      a.href = window.URL.createObjectURL(blob);\n",
              "      a.download = filename;\n",
              "      div.appendChild(a);\n",
              "      a.click();\n",
              "      div.remove();\n",
              "    }\n",
              "  "
            ]
          },
          "metadata": {}
        },
        {
          "output_type": "display_data",
          "data": {
            "text/plain": [
              "<IPython.core.display.Javascript object>"
            ],
            "application/javascript": [
              "download(\"download_494e5bcc-188c-48bf-a26d-809293bc388d\", \"vending_machine_199809818B.txt\", 14306)"
            ]
          },
          "metadata": {}
        }
      ]
    },
    {
      "cell_type": "code",
      "source": [
        "# Clean Extracted Text\n",
        "\n",
        "import re\n",
        "\n",
        "# List of extracted text files (Update filenames based on your uploaded patents)\n",
        "text_files = [\n",
        "    \"bluetooth_200606656A.txt\",\n",
        "    \"container_198906224A.txt\",\n",
        "    \"vending_machine_199809818B.txt\"\n",
        "]\n",
        "\n",
        "cleaned_files = []  # Store filenames for downloading\n",
        "\n",
        "# Clean and save each text file\n",
        "for file_path in text_files:\n",
        "    try:\n",
        "        # Read extracted text using 'latin-1' encoding or ignore errors\n",
        "        with open(file_path, \"r\", encoding=\"latin-1\", errors=\"ignore\") as f:\n",
        "            raw_text = f.read()\n",
        "\n",
        "        # Remove extra spaces, special characters, and broken words\n",
        "        cleaned_text = re.sub(r\"\\s+\", \" \", raw_text)  # Remove extra spaces/newlines\n",
        "        cleaned_text = re.sub(r\"[^a-zA-Z0-9\\s.,]\", \"\", cleaned_text)  # Remove special characters\n",
        "\n",
        "        # Define cleaned output filename\n",
        "        cleaned_filename = file_path.replace(\".txt\", \"_cleaned.txt\")\n",
        "\n",
        "        # Save cleaned text\n",
        "        with open(cleaned_filename, \"w\", encoding=\"utf-8\") as f:\n",
        "            f.write(cleaned_text)\n",
        "\n",
        "        cleaned_files.append(cleaned_filename)  # Store cleaned file name\n",
        "        print(f\"✅ Cleaned text saved as {cleaned_filename}\")\n",
        "\n",
        "    except Exception as e:\n",
        "        print(f\"⚠️ Error processing {file_path}: {e}\")\n",
        "\n",
        "# Download all cleaned files\n",
        "for file in cleaned_files:\n",
        "    files.download(file)\n",
        "\n",
        "print(\"✅ All cleaned text files have been downloaded!\")\n",
        "\n"
      ],
      "metadata": {
        "colab": {
          "base_uri": "https://localhost:8080/",
          "height": 86
        },
        "id": "fGQDXfkhz-bx",
        "outputId": "8d34ad47-2943-4672-98b4-188be333cb44"
      },
      "execution_count": 6,
      "outputs": [
        {
          "output_type": "stream",
          "name": "stdout",
          "text": [
            "✅ Cleaned text saved as bluetooth_200606656A_cleaned.txt\n",
            "✅ Cleaned text saved as container_198906224A_cleaned.txt\n",
            "✅ Cleaned text saved as vending_machine_199809818B_cleaned.txt\n"
          ]
        },
        {
          "output_type": "display_data",
          "data": {
            "text/plain": [
              "<IPython.core.display.Javascript object>"
            ],
            "application/javascript": [
              "\n",
              "    async function download(id, filename, size) {\n",
              "      if (!google.colab.kernel.accessAllowed) {\n",
              "        return;\n",
              "      }\n",
              "      const div = document.createElement('div');\n",
              "      const label = document.createElement('label');\n",
              "      label.textContent = `Downloading \"${filename}\": `;\n",
              "      div.appendChild(label);\n",
              "      const progress = document.createElement('progress');\n",
              "      progress.max = size;\n",
              "      div.appendChild(progress);\n",
              "      document.body.appendChild(div);\n",
              "\n",
              "      const buffers = [];\n",
              "      let downloaded = 0;\n",
              "\n",
              "      const channel = await google.colab.kernel.comms.open(id);\n",
              "      // Send a message to notify the kernel that we're ready.\n",
              "      channel.send({})\n",
              "\n",
              "      for await (const message of channel.messages) {\n",
              "        // Send a message to notify the kernel that we're ready.\n",
              "        channel.send({})\n",
              "        if (message.buffers) {\n",
              "          for (const buffer of message.buffers) {\n",
              "            buffers.push(buffer);\n",
              "            downloaded += buffer.byteLength;\n",
              "            progress.value = downloaded;\n",
              "          }\n",
              "        }\n",
              "      }\n",
              "      const blob = new Blob(buffers, {type: 'application/binary'});\n",
              "      const a = document.createElement('a');\n",
              "      a.href = window.URL.createObjectURL(blob);\n",
              "      a.download = filename;\n",
              "      div.appendChild(a);\n",
              "      a.click();\n",
              "      div.remove();\n",
              "    }\n",
              "  "
            ]
          },
          "metadata": {}
        },
        {
          "output_type": "display_data",
          "data": {
            "text/plain": [
              "<IPython.core.display.Javascript object>"
            ],
            "application/javascript": [
              "download(\"download_e2d32466-2b0d-4b3c-aeb6-f9b5513746f1\", \"bluetooth_200606656A_cleaned.txt\", 25063)"
            ]
          },
          "metadata": {}
        },
        {
          "output_type": "display_data",
          "data": {
            "text/plain": [
              "<IPython.core.display.Javascript object>"
            ],
            "application/javascript": [
              "\n",
              "    async function download(id, filename, size) {\n",
              "      if (!google.colab.kernel.accessAllowed) {\n",
              "        return;\n",
              "      }\n",
              "      const div = document.createElement('div');\n",
              "      const label = document.createElement('label');\n",
              "      label.textContent = `Downloading \"${filename}\": `;\n",
              "      div.appendChild(label);\n",
              "      const progress = document.createElement('progress');\n",
              "      progress.max = size;\n",
              "      div.appendChild(progress);\n",
              "      document.body.appendChild(div);\n",
              "\n",
              "      const buffers = [];\n",
              "      let downloaded = 0;\n",
              "\n",
              "      const channel = await google.colab.kernel.comms.open(id);\n",
              "      // Send a message to notify the kernel that we're ready.\n",
              "      channel.send({})\n",
              "\n",
              "      for await (const message of channel.messages) {\n",
              "        // Send a message to notify the kernel that we're ready.\n",
              "        channel.send({})\n",
              "        if (message.buffers) {\n",
              "          for (const buffer of message.buffers) {\n",
              "            buffers.push(buffer);\n",
              "            downloaded += buffer.byteLength;\n",
              "            progress.value = downloaded;\n",
              "          }\n",
              "        }\n",
              "      }\n",
              "      const blob = new Blob(buffers, {type: 'application/binary'});\n",
              "      const a = document.createElement('a');\n",
              "      a.href = window.URL.createObjectURL(blob);\n",
              "      a.download = filename;\n",
              "      div.appendChild(a);\n",
              "      a.click();\n",
              "      div.remove();\n",
              "    }\n",
              "  "
            ]
          },
          "metadata": {}
        },
        {
          "output_type": "display_data",
          "data": {
            "text/plain": [
              "<IPython.core.display.Javascript object>"
            ],
            "application/javascript": [
              "download(\"download_112ede60-a5d9-45d4-90db-0a026b6bad42\", \"container_198906224A_cleaned.txt\", 20165)"
            ]
          },
          "metadata": {}
        },
        {
          "output_type": "display_data",
          "data": {
            "text/plain": [
              "<IPython.core.display.Javascript object>"
            ],
            "application/javascript": [
              "\n",
              "    async function download(id, filename, size) {\n",
              "      if (!google.colab.kernel.accessAllowed) {\n",
              "        return;\n",
              "      }\n",
              "      const div = document.createElement('div');\n",
              "      const label = document.createElement('label');\n",
              "      label.textContent = `Downloading \"${filename}\": `;\n",
              "      div.appendChild(label);\n",
              "      const progress = document.createElement('progress');\n",
              "      progress.max = size;\n",
              "      div.appendChild(progress);\n",
              "      document.body.appendChild(div);\n",
              "\n",
              "      const buffers = [];\n",
              "      let downloaded = 0;\n",
              "\n",
              "      const channel = await google.colab.kernel.comms.open(id);\n",
              "      // Send a message to notify the kernel that we're ready.\n",
              "      channel.send({})\n",
              "\n",
              "      for await (const message of channel.messages) {\n",
              "        // Send a message to notify the kernel that we're ready.\n",
              "        channel.send({})\n",
              "        if (message.buffers) {\n",
              "          for (const buffer of message.buffers) {\n",
              "            buffers.push(buffer);\n",
              "            downloaded += buffer.byteLength;\n",
              "            progress.value = downloaded;\n",
              "          }\n",
              "        }\n",
              "      }\n",
              "      const blob = new Blob(buffers, {type: 'application/binary'});\n",
              "      const a = document.createElement('a');\n",
              "      a.href = window.URL.createObjectURL(blob);\n",
              "      a.download = filename;\n",
              "      div.appendChild(a);\n",
              "      a.click();\n",
              "      div.remove();\n",
              "    }\n",
              "  "
            ]
          },
          "metadata": {}
        },
        {
          "output_type": "display_data",
          "data": {
            "text/plain": [
              "<IPython.core.display.Javascript object>"
            ],
            "application/javascript": [
              "download(\"download_7af13e54-cc7e-46f7-9e9e-36fb7884d1a9\", \"vending_machine_199809818B_cleaned.txt\", 13911)"
            ]
          },
          "metadata": {}
        },
        {
          "output_type": "stream",
          "name": "stdout",
          "text": [
            "✅ All cleaned text files have been downloaded!\n"
          ]
        }
      ]
    },
    {
      "cell_type": "code",
      "source": [
        "import re\n",
        "import json\n",
        "\n",
        "# List of cleaned text files\n",
        "cleaned_files = [\n",
        "    \"bluetooth_200606656A_cleaned.txt\",\n",
        "    \"container_198906224A_cleaned.txt\",\n",
        "    \"vending_machine_199809818B_cleaned.txt\"\n",
        "]\n",
        "\n",
        "# Function to extract structured data using regex\n",
        "def extract_sections(text):\n",
        "    # Extract Title of the Invention\n",
        "    title_match = re.search(r\"Title of invention\\s*(.*)\", text, re.IGNORECASE)\n",
        "    title = title_match.group(1).strip() if title_match else \"Not Found\"\n",
        "\n",
        "    # Extract Abstract\n",
        "    abstract_match = re.search(r\"Abstract(.*?)(?=Background|Description|Claims)\", text, re.DOTALL | re.IGNORECASE)\n",
        "    abstract_text = abstract_match.group(1).strip() if abstract_match else \"Not Found\"\n",
        "\n",
        "    # Extract Description\n",
        "    description_match = re.search(r\"Description(.*?)(?=Claims)\", text, re.DOTALL | re.IGNORECASE)\n",
        "    description_text = description_match.group(1).strip() if description_match else \"Not Found\"\n",
        "\n",
        "    # Extract Claims\n",
        "    claims_match = re.search(r\"Claims(.*)\", text, re.DOTALL | re.IGNORECASE)\n",
        "    claims_text = claims_match.group(1).strip() if claims_match else \"Not Found\"\n",
        "\n",
        "    return title, abstract_text, description_text, claims_text\n",
        "\n",
        "# Convert extracted sections to COCO format\n",
        "coco_format = {\"images\": [], \"annotations\": [], \"categories\": []}\n",
        "\n",
        "# Category mapping\n",
        "categories = [\n",
        "    {\"id\": 1, \"name\": \"Title of the Invention\"},\n",
        "    {\"id\": 2, \"name\": \"Abstract\"},\n",
        "    {\"id\": 3, \"name\": \"Description\"},\n",
        "    {\"id\": 4, \"name\": \"Claims\"}\n",
        "]\n",
        "\n",
        "# Add categories to COCO structure\n",
        "coco_format[\"categories\"] = categories\n",
        "\n",
        "# Process each cleaned text file\n",
        "for idx, file_path in enumerate(cleaned_files, start=1):\n",
        "    # Read cleaned text\n",
        "    with open(file_path, \"r\", encoding=\"utf-8\") as f:\n",
        "        cleaned_text = f.read()\n",
        "\n",
        "    # Extract sections\n",
        "    title, abstract_text, description_text, claims_text = extract_sections(cleaned_text)\n",
        "\n",
        "    # Add image (patent document reference)\n",
        "    coco_format[\"images\"].append({\"id\": idx, \"file_name\": file_path.replace(\"_cleaned.txt\", \".pdf\")})\n",
        "\n",
        "    # Add annotations\n",
        "    coco_format[\"annotations\"].append({\"id\": idx * 10 + 1, \"image_id\": idx, \"category_id\": 1, \"text\": title})\n",
        "    coco_format[\"annotations\"].append({\"id\": idx * 10 + 2, \"image_id\": idx, \"category_id\": 2, \"text\": abstract_text})\n",
        "    coco_format[\"annotations\"].append({\"id\": idx * 10 + 3, \"image_id\": idx, \"category_id\": 3, \"text\": description_text})\n",
        "    coco_format[\"annotations\"].append({\"id\": idx * 10 + 4, \"image_id\": idx, \"category_id\": 4, \"text\": claims_text})\n",
        "\n",
        "# Save as JSON\n",
        "json_path = \"structured_patent_data.json\"\n",
        "with open(json_path, \"w\", encoding=\"utf-8\") as f:\n",
        "    json.dump(coco_format, f, indent=4)\n",
        "\n",
        "print(\"✅ COCO-formatted data saved as 'structured_patent_data.json'.\")\n"
      ],
      "metadata": {
        "colab": {
          "base_uri": "https://localhost:8080/"
        },
        "id": "FxOKqR6xjMJv",
        "outputId": "9c7d75d8-3fe2-4769-8f31-ddcc197c6677"
      },
      "execution_count": 7,
      "outputs": [
        {
          "output_type": "stream",
          "name": "stdout",
          "text": [
            "✅ COCO-formatted data saved as 'structured_patent_data.json'.\n"
          ]
        }
      ]
    },
    {
      "cell_type": "code",
      "source": [
        "# Download COCO JSON File\n",
        "\n",
        "files.download(\"structured_patent_data.json\")"
      ],
      "metadata": {
        "colab": {
          "base_uri": "https://localhost:8080/",
          "height": 17
        },
        "id": "7q20dIOjj9S_",
        "outputId": "67d8525b-c33c-48d6-9ef5-d209fb375516"
      },
      "execution_count": 8,
      "outputs": [
        {
          "output_type": "display_data",
          "data": {
            "text/plain": [
              "<IPython.core.display.Javascript object>"
            ],
            "application/javascript": [
              "\n",
              "    async function download(id, filename, size) {\n",
              "      if (!google.colab.kernel.accessAllowed) {\n",
              "        return;\n",
              "      }\n",
              "      const div = document.createElement('div');\n",
              "      const label = document.createElement('label');\n",
              "      label.textContent = `Downloading \"${filename}\": `;\n",
              "      div.appendChild(label);\n",
              "      const progress = document.createElement('progress');\n",
              "      progress.max = size;\n",
              "      div.appendChild(progress);\n",
              "      document.body.appendChild(div);\n",
              "\n",
              "      const buffers = [];\n",
              "      let downloaded = 0;\n",
              "\n",
              "      const channel = await google.colab.kernel.comms.open(id);\n",
              "      // Send a message to notify the kernel that we're ready.\n",
              "      channel.send({})\n",
              "\n",
              "      for await (const message of channel.messages) {\n",
              "        // Send a message to notify the kernel that we're ready.\n",
              "        channel.send({})\n",
              "        if (message.buffers) {\n",
              "          for (const buffer of message.buffers) {\n",
              "            buffers.push(buffer);\n",
              "            downloaded += buffer.byteLength;\n",
              "            progress.value = downloaded;\n",
              "          }\n",
              "        }\n",
              "      }\n",
              "      const blob = new Blob(buffers, {type: 'application/binary'});\n",
              "      const a = document.createElement('a');\n",
              "      a.href = window.URL.createObjectURL(blob);\n",
              "      a.download = filename;\n",
              "      div.appendChild(a);\n",
              "      a.click();\n",
              "      div.remove();\n",
              "    }\n",
              "  "
            ]
          },
          "metadata": {}
        },
        {
          "output_type": "display_data",
          "data": {
            "text/plain": [
              "<IPython.core.display.Javascript object>"
            ],
            "application/javascript": [
              "download(\"download_7bb17515-0a62-45a0-b9ac-af643e0d0062\", \"structured_patent_data.json\", 103491)"
            ]
          },
          "metadata": {}
        }
      ]
    },
    {
      "cell_type": "code",
      "source": [
        "# This is how I Uploaded the files to Google Colab\n",
        "\n",
        "uploaded = files.upload()"
      ],
      "metadata": {
        "colab": {
          "base_uri": "https://localhost:8080/",
          "height": 73
        },
        "id": "jAhm3Xwo3lBk",
        "outputId": "12412371-c9ee-4521-a122-eb8cccef408f"
      },
      "execution_count": 10,
      "outputs": [
        {
          "output_type": "display_data",
          "data": {
            "text/plain": [
              "<IPython.core.display.HTML object>"
            ],
            "text/html": [
              "\n",
              "     <input type=\"file\" id=\"files-173e3dfc-e729-4d26-b8be-e18c238d2642\" name=\"files[]\" multiple disabled\n",
              "        style=\"border:none\" />\n",
              "     <output id=\"result-173e3dfc-e729-4d26-b8be-e18c238d2642\">\n",
              "      Upload widget is only available when the cell has been executed in the\n",
              "      current browser session. Please rerun this cell to enable.\n",
              "      </output>\n",
              "      <script>// Copyright 2017 Google LLC\n",
              "//\n",
              "// Licensed under the Apache License, Version 2.0 (the \"License\");\n",
              "// you may not use this file except in compliance with the License.\n",
              "// You may obtain a copy of the License at\n",
              "//\n",
              "//      http://www.apache.org/licenses/LICENSE-2.0\n",
              "//\n",
              "// Unless required by applicable law or agreed to in writing, software\n",
              "// distributed under the License is distributed on an \"AS IS\" BASIS,\n",
              "// WITHOUT WARRANTIES OR CONDITIONS OF ANY KIND, either express or implied.\n",
              "// See the License for the specific language governing permissions and\n",
              "// limitations under the License.\n",
              "\n",
              "/**\n",
              " * @fileoverview Helpers for google.colab Python module.\n",
              " */\n",
              "(function(scope) {\n",
              "function span(text, styleAttributes = {}) {\n",
              "  const element = document.createElement('span');\n",
              "  element.textContent = text;\n",
              "  for (const key of Object.keys(styleAttributes)) {\n",
              "    element.style[key] = styleAttributes[key];\n",
              "  }\n",
              "  return element;\n",
              "}\n",
              "\n",
              "// Max number of bytes which will be uploaded at a time.\n",
              "const MAX_PAYLOAD_SIZE = 100 * 1024;\n",
              "\n",
              "function _uploadFiles(inputId, outputId) {\n",
              "  const steps = uploadFilesStep(inputId, outputId);\n",
              "  const outputElement = document.getElementById(outputId);\n",
              "  // Cache steps on the outputElement to make it available for the next call\n",
              "  // to uploadFilesContinue from Python.\n",
              "  outputElement.steps = steps;\n",
              "\n",
              "  return _uploadFilesContinue(outputId);\n",
              "}\n",
              "\n",
              "// This is roughly an async generator (not supported in the browser yet),\n",
              "// where there are multiple asynchronous steps and the Python side is going\n",
              "// to poll for completion of each step.\n",
              "// This uses a Promise to block the python side on completion of each step,\n",
              "// then passes the result of the previous step as the input to the next step.\n",
              "function _uploadFilesContinue(outputId) {\n",
              "  const outputElement = document.getElementById(outputId);\n",
              "  const steps = outputElement.steps;\n",
              "\n",
              "  const next = steps.next(outputElement.lastPromiseValue);\n",
              "  return Promise.resolve(next.value.promise).then((value) => {\n",
              "    // Cache the last promise value to make it available to the next\n",
              "    // step of the generator.\n",
              "    outputElement.lastPromiseValue = value;\n",
              "    return next.value.response;\n",
              "  });\n",
              "}\n",
              "\n",
              "/**\n",
              " * Generator function which is called between each async step of the upload\n",
              " * process.\n",
              " * @param {string} inputId Element ID of the input file picker element.\n",
              " * @param {string} outputId Element ID of the output display.\n",
              " * @return {!Iterable<!Object>} Iterable of next steps.\n",
              " */\n",
              "function* uploadFilesStep(inputId, outputId) {\n",
              "  const inputElement = document.getElementById(inputId);\n",
              "  inputElement.disabled = false;\n",
              "\n",
              "  const outputElement = document.getElementById(outputId);\n",
              "  outputElement.innerHTML = '';\n",
              "\n",
              "  const pickedPromise = new Promise((resolve) => {\n",
              "    inputElement.addEventListener('change', (e) => {\n",
              "      resolve(e.target.files);\n",
              "    });\n",
              "  });\n",
              "\n",
              "  const cancel = document.createElement('button');\n",
              "  inputElement.parentElement.appendChild(cancel);\n",
              "  cancel.textContent = 'Cancel upload';\n",
              "  const cancelPromise = new Promise((resolve) => {\n",
              "    cancel.onclick = () => {\n",
              "      resolve(null);\n",
              "    };\n",
              "  });\n",
              "\n",
              "  // Wait for the user to pick the files.\n",
              "  const files = yield {\n",
              "    promise: Promise.race([pickedPromise, cancelPromise]),\n",
              "    response: {\n",
              "      action: 'starting',\n",
              "    }\n",
              "  };\n",
              "\n",
              "  cancel.remove();\n",
              "\n",
              "  // Disable the input element since further picks are not allowed.\n",
              "  inputElement.disabled = true;\n",
              "\n",
              "  if (!files) {\n",
              "    return {\n",
              "      response: {\n",
              "        action: 'complete',\n",
              "      }\n",
              "    };\n",
              "  }\n",
              "\n",
              "  for (const file of files) {\n",
              "    const li = document.createElement('li');\n",
              "    li.append(span(file.name, {fontWeight: 'bold'}));\n",
              "    li.append(span(\n",
              "        `(${file.type || 'n/a'}) - ${file.size} bytes, ` +\n",
              "        `last modified: ${\n",
              "            file.lastModifiedDate ? file.lastModifiedDate.toLocaleDateString() :\n",
              "                                    'n/a'} - `));\n",
              "    const percent = span('0% done');\n",
              "    li.appendChild(percent);\n",
              "\n",
              "    outputElement.appendChild(li);\n",
              "\n",
              "    const fileDataPromise = new Promise((resolve) => {\n",
              "      const reader = new FileReader();\n",
              "      reader.onload = (e) => {\n",
              "        resolve(e.target.result);\n",
              "      };\n",
              "      reader.readAsArrayBuffer(file);\n",
              "    });\n",
              "    // Wait for the data to be ready.\n",
              "    let fileData = yield {\n",
              "      promise: fileDataPromise,\n",
              "      response: {\n",
              "        action: 'continue',\n",
              "      }\n",
              "    };\n",
              "\n",
              "    // Use a chunked sending to avoid message size limits. See b/62115660.\n",
              "    let position = 0;\n",
              "    do {\n",
              "      const length = Math.min(fileData.byteLength - position, MAX_PAYLOAD_SIZE);\n",
              "      const chunk = new Uint8Array(fileData, position, length);\n",
              "      position += length;\n",
              "\n",
              "      const base64 = btoa(String.fromCharCode.apply(null, chunk));\n",
              "      yield {\n",
              "        response: {\n",
              "          action: 'append',\n",
              "          file: file.name,\n",
              "          data: base64,\n",
              "        },\n",
              "      };\n",
              "\n",
              "      let percentDone = fileData.byteLength === 0 ?\n",
              "          100 :\n",
              "          Math.round((position / fileData.byteLength) * 100);\n",
              "      percent.textContent = `${percentDone}% done`;\n",
              "\n",
              "    } while (position < fileData.byteLength);\n",
              "  }\n",
              "\n",
              "  // All done.\n",
              "  yield {\n",
              "    response: {\n",
              "      action: 'complete',\n",
              "    }\n",
              "  };\n",
              "}\n",
              "\n",
              "scope.google = scope.google || {};\n",
              "scope.google.colab = scope.google.colab || {};\n",
              "scope.google.colab._files = {\n",
              "  _uploadFiles,\n",
              "  _uploadFilesContinue,\n",
              "};\n",
              "})(self);\n",
              "</script> "
            ]
          },
          "metadata": {}
        },
        {
          "output_type": "stream",
          "name": "stdout",
          "text": [
            "Saving Patent_Annotated_Dataset.csv to Patent_Annotated_Dataset.csv\n"
          ]
        }
      ]
    },
    {
      "cell_type": "code",
      "source": [
        "# Load and Inspact CSV Data:\n",
        "\n",
        "import pandas as pd\n",
        "\n",
        "# Load the dataset\n",
        "file_path = \"Patent_Annotated_Dataset.csv\"\n",
        "df = pd.read_csv(file_path)\n",
        "\n",
        "# Display basic info\n",
        "df.info()\n",
        "\n",
        "# Show first few rows\n",
        "df.head()\n"
      ],
      "metadata": {
        "colab": {
          "base_uri": "https://localhost:8080/",
          "height": 508
        },
        "id": "ciantoq-3DGu",
        "outputId": "cb97ecf3-6da1-4cc0-d5f9-cf305022b08b"
      },
      "execution_count": 64,
      "outputs": [
        {
          "output_type": "stream",
          "name": "stdout",
          "text": [
            "<class 'pandas.core.frame.DataFrame'>\n",
            "RangeIndex: 3 entries, 0 to 2\n",
            "Data columns (total 8 columns):\n",
            " #   Column         Non-Null Count  Dtype  \n",
            "---  ------         --------------  -----  \n",
            " 0   annotation_id  3 non-null      int64  \n",
            " 1   annotator      3 non-null      int64  \n",
            " 2   created_at     3 non-null      object \n",
            " 3   id             3 non-null      int64  \n",
            " 4   label          3 non-null      object \n",
            " 5   lead_time      3 non-null      float64\n",
            " 6   text           3 non-null      object \n",
            " 7   updated_at     3 non-null      object \n",
            "dtypes: float64(1), int64(3), object(4)\n",
            "memory usage: 324.0+ bytes\n"
          ]
        },
        {
          "output_type": "execute_result",
          "data": {
            "text/plain": [
              "   annotation_id  annotator                   created_at  id  \\\n",
              "0              1          1  2025-03-03T08:20:37.092306Z   1   \n",
              "1              2          1  2025-03-03T08:35:09.139732Z   2   \n",
              "2              3          1  2025-03-03T08:44:52.273862Z   3   \n",
              "\n",
              "                                               label  lead_time  \\\n",
              "0  [{\"start\":442,\"end\":451,\"text\":\"CONTAINER\",\"la...    730.750   \n",
              "1  [{\"start\":592,\"end\":622,\"text\":\"VENDING MACHIN...    860.148   \n",
              "2  [{\"start\":525,\"end\":562,\"text\":\" Bluetooth Ena...    574.668   \n",
              "\n",
              "                                                text  \\\n",
              "0  SPOOR AND FISHER  FORM P.8. To be lodged in du...   \n",
              "1   D.M. KISCH INC. , Johannesburg Form P.8 REPUB...   \n",
              "2   FORM P8 REPUBLIC OF SOUTH AFRICA PATENTS ACT,...   \n",
              "\n",
              "                    updated_at  \n",
              "0  2025-03-03T08:20:37.092306Z  \n",
              "1  2025-03-03T08:35:09.139732Z  \n",
              "2  2025-03-03T08:44:52.273862Z  "
            ],
            "text/html": [
              "\n",
              "  <div id=\"df-cbc8e67d-9cd3-4ce1-94f1-abaacacd1cbd\" class=\"colab-df-container\">\n",
              "    <div>\n",
              "<style scoped>\n",
              "    .dataframe tbody tr th:only-of-type {\n",
              "        vertical-align: middle;\n",
              "    }\n",
              "\n",
              "    .dataframe tbody tr th {\n",
              "        vertical-align: top;\n",
              "    }\n",
              "\n",
              "    .dataframe thead th {\n",
              "        text-align: right;\n",
              "    }\n",
              "</style>\n",
              "<table border=\"1\" class=\"dataframe\">\n",
              "  <thead>\n",
              "    <tr style=\"text-align: right;\">\n",
              "      <th></th>\n",
              "      <th>annotation_id</th>\n",
              "      <th>annotator</th>\n",
              "      <th>created_at</th>\n",
              "      <th>id</th>\n",
              "      <th>label</th>\n",
              "      <th>lead_time</th>\n",
              "      <th>text</th>\n",
              "      <th>updated_at</th>\n",
              "    </tr>\n",
              "  </thead>\n",
              "  <tbody>\n",
              "    <tr>\n",
              "      <th>0</th>\n",
              "      <td>1</td>\n",
              "      <td>1</td>\n",
              "      <td>2025-03-03T08:20:37.092306Z</td>\n",
              "      <td>1</td>\n",
              "      <td>[{\"start\":442,\"end\":451,\"text\":\"CONTAINER\",\"la...</td>\n",
              "      <td>730.750</td>\n",
              "      <td>SPOOR AND FISHER  FORM P.8. To be lodged in du...</td>\n",
              "      <td>2025-03-03T08:20:37.092306Z</td>\n",
              "    </tr>\n",
              "    <tr>\n",
              "      <th>1</th>\n",
              "      <td>2</td>\n",
              "      <td>1</td>\n",
              "      <td>2025-03-03T08:35:09.139732Z</td>\n",
              "      <td>2</td>\n",
              "      <td>[{\"start\":592,\"end\":622,\"text\":\"VENDING MACHIN...</td>\n",
              "      <td>860.148</td>\n",
              "      <td>D.M. KISCH INC. , Johannesburg Form P.8 REPUB...</td>\n",
              "      <td>2025-03-03T08:35:09.139732Z</td>\n",
              "    </tr>\n",
              "    <tr>\n",
              "      <th>2</th>\n",
              "      <td>3</td>\n",
              "      <td>1</td>\n",
              "      <td>2025-03-03T08:44:52.273862Z</td>\n",
              "      <td>3</td>\n",
              "      <td>[{\"start\":525,\"end\":562,\"text\":\" Bluetooth Ena...</td>\n",
              "      <td>574.668</td>\n",
              "      <td>FORM P8 REPUBLIC OF SOUTH AFRICA PATENTS ACT,...</td>\n",
              "      <td>2025-03-03T08:44:52.273862Z</td>\n",
              "    </tr>\n",
              "  </tbody>\n",
              "</table>\n",
              "</div>\n",
              "    <div class=\"colab-df-buttons\">\n",
              "\n",
              "  <div class=\"colab-df-container\">\n",
              "    <button class=\"colab-df-convert\" onclick=\"convertToInteractive('df-cbc8e67d-9cd3-4ce1-94f1-abaacacd1cbd')\"\n",
              "            title=\"Convert this dataframe to an interactive table.\"\n",
              "            style=\"display:none;\">\n",
              "\n",
              "  <svg xmlns=\"http://www.w3.org/2000/svg\" height=\"24px\" viewBox=\"0 -960 960 960\">\n",
              "    <path d=\"M120-120v-720h720v720H120Zm60-500h600v-160H180v160Zm220 220h160v-160H400v160Zm0 220h160v-160H400v160ZM180-400h160v-160H180v160Zm440 0h160v-160H620v160ZM180-180h160v-160H180v160Zm440 0h160v-160H620v160Z\"/>\n",
              "  </svg>\n",
              "    </button>\n",
              "\n",
              "  <style>\n",
              "    .colab-df-container {\n",
              "      display:flex;\n",
              "      gap: 12px;\n",
              "    }\n",
              "\n",
              "    .colab-df-convert {\n",
              "      background-color: #E8F0FE;\n",
              "      border: none;\n",
              "      border-radius: 50%;\n",
              "      cursor: pointer;\n",
              "      display: none;\n",
              "      fill: #1967D2;\n",
              "      height: 32px;\n",
              "      padding: 0 0 0 0;\n",
              "      width: 32px;\n",
              "    }\n",
              "\n",
              "    .colab-df-convert:hover {\n",
              "      background-color: #E2EBFA;\n",
              "      box-shadow: 0px 1px 2px rgba(60, 64, 67, 0.3), 0px 1px 3px 1px rgba(60, 64, 67, 0.15);\n",
              "      fill: #174EA6;\n",
              "    }\n",
              "\n",
              "    .colab-df-buttons div {\n",
              "      margin-bottom: 4px;\n",
              "    }\n",
              "\n",
              "    [theme=dark] .colab-df-convert {\n",
              "      background-color: #3B4455;\n",
              "      fill: #D2E3FC;\n",
              "    }\n",
              "\n",
              "    [theme=dark] .colab-df-convert:hover {\n",
              "      background-color: #434B5C;\n",
              "      box-shadow: 0px 1px 3px 1px rgba(0, 0, 0, 0.15);\n",
              "      filter: drop-shadow(0px 1px 2px rgba(0, 0, 0, 0.3));\n",
              "      fill: #FFFFFF;\n",
              "    }\n",
              "  </style>\n",
              "\n",
              "    <script>\n",
              "      const buttonEl =\n",
              "        document.querySelector('#df-cbc8e67d-9cd3-4ce1-94f1-abaacacd1cbd button.colab-df-convert');\n",
              "      buttonEl.style.display =\n",
              "        google.colab.kernel.accessAllowed ? 'block' : 'none';\n",
              "\n",
              "      async function convertToInteractive(key) {\n",
              "        const element = document.querySelector('#df-cbc8e67d-9cd3-4ce1-94f1-abaacacd1cbd');\n",
              "        const dataTable =\n",
              "          await google.colab.kernel.invokeFunction('convertToInteractive',\n",
              "                                                    [key], {});\n",
              "        if (!dataTable) return;\n",
              "\n",
              "        const docLinkHtml = 'Like what you see? Visit the ' +\n",
              "          '<a target=\"_blank\" href=https://colab.research.google.com/notebooks/data_table.ipynb>data table notebook</a>'\n",
              "          + ' to learn more about interactive tables.';\n",
              "        element.innerHTML = '';\n",
              "        dataTable['output_type'] = 'display_data';\n",
              "        await google.colab.output.renderOutput(dataTable, element);\n",
              "        const docLink = document.createElement('div');\n",
              "        docLink.innerHTML = docLinkHtml;\n",
              "        element.appendChild(docLink);\n",
              "      }\n",
              "    </script>\n",
              "  </div>\n",
              "\n",
              "\n",
              "<div id=\"df-6e4ffccf-3a3e-4fd7-8492-612643905c8f\">\n",
              "  <button class=\"colab-df-quickchart\" onclick=\"quickchart('df-6e4ffccf-3a3e-4fd7-8492-612643905c8f')\"\n",
              "            title=\"Suggest charts\"\n",
              "            style=\"display:none;\">\n",
              "\n",
              "<svg xmlns=\"http://www.w3.org/2000/svg\" height=\"24px\"viewBox=\"0 0 24 24\"\n",
              "     width=\"24px\">\n",
              "    <g>\n",
              "        <path d=\"M19 3H5c-1.1 0-2 .9-2 2v14c0 1.1.9 2 2 2h14c1.1 0 2-.9 2-2V5c0-1.1-.9-2-2-2zM9 17H7v-7h2v7zm4 0h-2V7h2v10zm4 0h-2v-4h2v4z\"/>\n",
              "    </g>\n",
              "</svg>\n",
              "  </button>\n",
              "\n",
              "<style>\n",
              "  .colab-df-quickchart {\n",
              "      --bg-color: #E8F0FE;\n",
              "      --fill-color: #1967D2;\n",
              "      --hover-bg-color: #E2EBFA;\n",
              "      --hover-fill-color: #174EA6;\n",
              "      --disabled-fill-color: #AAA;\n",
              "      --disabled-bg-color: #DDD;\n",
              "  }\n",
              "\n",
              "  [theme=dark] .colab-df-quickchart {\n",
              "      --bg-color: #3B4455;\n",
              "      --fill-color: #D2E3FC;\n",
              "      --hover-bg-color: #434B5C;\n",
              "      --hover-fill-color: #FFFFFF;\n",
              "      --disabled-bg-color: #3B4455;\n",
              "      --disabled-fill-color: #666;\n",
              "  }\n",
              "\n",
              "  .colab-df-quickchart {\n",
              "    background-color: var(--bg-color);\n",
              "    border: none;\n",
              "    border-radius: 50%;\n",
              "    cursor: pointer;\n",
              "    display: none;\n",
              "    fill: var(--fill-color);\n",
              "    height: 32px;\n",
              "    padding: 0;\n",
              "    width: 32px;\n",
              "  }\n",
              "\n",
              "  .colab-df-quickchart:hover {\n",
              "    background-color: var(--hover-bg-color);\n",
              "    box-shadow: 0 1px 2px rgba(60, 64, 67, 0.3), 0 1px 3px 1px rgba(60, 64, 67, 0.15);\n",
              "    fill: var(--button-hover-fill-color);\n",
              "  }\n",
              "\n",
              "  .colab-df-quickchart-complete:disabled,\n",
              "  .colab-df-quickchart-complete:disabled:hover {\n",
              "    background-color: var(--disabled-bg-color);\n",
              "    fill: var(--disabled-fill-color);\n",
              "    box-shadow: none;\n",
              "  }\n",
              "\n",
              "  .colab-df-spinner {\n",
              "    border: 2px solid var(--fill-color);\n",
              "    border-color: transparent;\n",
              "    border-bottom-color: var(--fill-color);\n",
              "    animation:\n",
              "      spin 1s steps(1) infinite;\n",
              "  }\n",
              "\n",
              "  @keyframes spin {\n",
              "    0% {\n",
              "      border-color: transparent;\n",
              "      border-bottom-color: var(--fill-color);\n",
              "      border-left-color: var(--fill-color);\n",
              "    }\n",
              "    20% {\n",
              "      border-color: transparent;\n",
              "      border-left-color: var(--fill-color);\n",
              "      border-top-color: var(--fill-color);\n",
              "    }\n",
              "    30% {\n",
              "      border-color: transparent;\n",
              "      border-left-color: var(--fill-color);\n",
              "      border-top-color: var(--fill-color);\n",
              "      border-right-color: var(--fill-color);\n",
              "    }\n",
              "    40% {\n",
              "      border-color: transparent;\n",
              "      border-right-color: var(--fill-color);\n",
              "      border-top-color: var(--fill-color);\n",
              "    }\n",
              "    60% {\n",
              "      border-color: transparent;\n",
              "      border-right-color: var(--fill-color);\n",
              "    }\n",
              "    80% {\n",
              "      border-color: transparent;\n",
              "      border-right-color: var(--fill-color);\n",
              "      border-bottom-color: var(--fill-color);\n",
              "    }\n",
              "    90% {\n",
              "      border-color: transparent;\n",
              "      border-bottom-color: var(--fill-color);\n",
              "    }\n",
              "  }\n",
              "</style>\n",
              "\n",
              "  <script>\n",
              "    async function quickchart(key) {\n",
              "      const quickchartButtonEl =\n",
              "        document.querySelector('#' + key + ' button');\n",
              "      quickchartButtonEl.disabled = true;  // To prevent multiple clicks.\n",
              "      quickchartButtonEl.classList.add('colab-df-spinner');\n",
              "      try {\n",
              "        const charts = await google.colab.kernel.invokeFunction(\n",
              "            'suggestCharts', [key], {});\n",
              "      } catch (error) {\n",
              "        console.error('Error during call to suggestCharts:', error);\n",
              "      }\n",
              "      quickchartButtonEl.classList.remove('colab-df-spinner');\n",
              "      quickchartButtonEl.classList.add('colab-df-quickchart-complete');\n",
              "    }\n",
              "    (() => {\n",
              "      let quickchartButtonEl =\n",
              "        document.querySelector('#df-6e4ffccf-3a3e-4fd7-8492-612643905c8f button');\n",
              "      quickchartButtonEl.style.display =\n",
              "        google.colab.kernel.accessAllowed ? 'block' : 'none';\n",
              "    })();\n",
              "  </script>\n",
              "</div>\n",
              "\n",
              "    </div>\n",
              "  </div>\n"
            ],
            "application/vnd.google.colaboratory.intrinsic+json": {
              "type": "dataframe",
              "variable_name": "df",
              "summary": "{\n  \"name\": \"df\",\n  \"rows\": 3,\n  \"fields\": [\n    {\n      \"column\": \"annotation_id\",\n      \"properties\": {\n        \"dtype\": \"number\",\n        \"std\": 1,\n        \"min\": 1,\n        \"max\": 3,\n        \"num_unique_values\": 3,\n        \"samples\": [\n          1,\n          2,\n          3\n        ],\n        \"semantic_type\": \"\",\n        \"description\": \"\"\n      }\n    },\n    {\n      \"column\": \"annotator\",\n      \"properties\": {\n        \"dtype\": \"number\",\n        \"std\": 0,\n        \"min\": 1,\n        \"max\": 1,\n        \"num_unique_values\": 1,\n        \"samples\": [\n          1\n        ],\n        \"semantic_type\": \"\",\n        \"description\": \"\"\n      }\n    },\n    {\n      \"column\": \"created_at\",\n      \"properties\": {\n        \"dtype\": \"object\",\n        \"num_unique_values\": 3,\n        \"samples\": [\n          \"2025-03-03T08:20:37.092306Z\"\n        ],\n        \"semantic_type\": \"\",\n        \"description\": \"\"\n      }\n    },\n    {\n      \"column\": \"id\",\n      \"properties\": {\n        \"dtype\": \"number\",\n        \"std\": 1,\n        \"min\": 1,\n        \"max\": 3,\n        \"num_unique_values\": 3,\n        \"samples\": [\n          1\n        ],\n        \"semantic_type\": \"\",\n        \"description\": \"\"\n      }\n    },\n    {\n      \"column\": \"label\",\n      \"properties\": {\n        \"dtype\": \"string\",\n        \"num_unique_values\": 3,\n        \"samples\": [\n          \"[{\\\"start\\\":442,\\\"end\\\":451,\\\"text\\\":\\\"CONTAINER\\\",\\\"labels\\\":[\\\"Title of the Invention\\\"]},{\\\"start\\\":679,\\\"end\\\":1124,\\\"text\\\":\\\" A plastic prefcrm for fcerming Flow molded plastic containers wherein the inside wall face cf the tubular boy portion adjacent the bottom structure and extending onto the bottom structure has a plurality of faces with termina portions thereof. Scallopshaped segments are provided connecting the terminal portions of each face to initiate deformation prior to deformation of the faces and thereby have an increased rate and degree of orientation\\\",\\\"labels\\\":[\\\"Abstract\\\"]},{\\\"start\\\":10221,\\\"end\\\":16866,\\\"text\\\":\\\"Referring now to the drawings in detail, a plastic parison or preform 10 is formed by injection molding from a synthetic resin which can be biaxiaily oriented, as for example poly ethylene terephthalate. The preform 10 has a neck portion 11 defining an opening 12 and it may be provided with external threads 13 to serve as the site for attachment of a cap on the finished, blow molded plastic container. The preform 10 has a tubular body portion 14 depending from the neck portion 11 and an integral bottom structure 15 depending from 9 Yok the tubular body portion. The preform 10 has an outside wall face 16 and an inside wall face 17. The inside wall face 17 of the tubular body portion 14 is provided with a thickened portion 18 which extends onto bottom structure 15 and is characterized by a plurality of faces 19 with terminal portions thereof 19a. Scallopshaped segments 20 connect the terminal portions of each face constituting weakened regions. Three or more of said faces may be used. The said faces may be flat as in Figures 2a and 2b, or curved as in Figures 7 and 8. For example, the hexagonal configuration of Figures 2a or the octagonal configuration of Figure 2b may readily be employed. The bottom structure 15 as shown in Figure 1 may be flat or may be provided with an axially inwardly directed conical part 21 as shown in Figure 3. As shown in the alternate embodiment of Figure 7, which is an enlarged sectional view similar to Figures 2a and 2b, faces 119 are concave curves with any reasonable curvature being suitable, while the alternate embodiment of Figure 8 shows convex curves 219. Terminal portions 119a and 219a connecting scallopshaped segments 120 and 220 are rounded to eliminate sharp corners and biend the scallopshaped segments into the faces. The choice between the several available shapes of the faces, as a rule, depends on how gradual the transition from thicker to thinner regions of the base is to be for a given size and bottle configuration. As shown in Figure l, thickened portion 18 includes a lower portion 18a adjacent the bottom structure having a wall thickness less than the wall thickness of the adjacent thickened portion 18. It has been found in accordance with the present invention that this may be employed in order to save material costs without loss of necessary properties in view of the significant advantages obtained in accordance with the present invention. Alternately, if desired, external ribs may be provided on the preform as disclosed in U.S. Patent 4,785,948. The thus formed preform is brought to a temperature at which blow molding can be accomplished which may be done by heating a previously formed preform or forming the hot preform in line with the blow molding operation and suitably adjusting the temperature thereof. The heated preform is then placed in a blow mold having the configuration of the desired container as blow mold 30 shown in Figure 3 and while blowing compressed air thereinto, the interior side of bottom portion 15 is pushed down by movable means 31 to effect biaxial ll orientation. The particular blow mold 30 shown in Figure 3 has an internal configuration which allows the formation of a plastic container 40 see Figure 4 having a desired configuration. It is particularly preferred in accordance with the present invention to provide stretching of the bottom region and of the tubular body portion in different amounts, to impart at least to the said bottom region continuous variations of thickness, the thick parts thereof on average being thicker than the average body wall thickness of the container body portion. A method using a stretch rod having a thickened distal end is fully disclosed in copending application SN 142,004, filed January 11, 1988, the disclosure of which is hereby incorporated by reference. thus, blow molded plastic container 40 is formed having a neck portion 41 defining an opening 42, a pottom portion 43, a tubular body portion 44 interconnecting the neck portion 41 and the bottom portion 43. Neck portion 41 is provided with external threads 45 to serve as the site for attachment of a cap on the container, as with preform 10. The bottom portion 43 has an internal, axially inwardly directed generally conical part 46. l2 Figure 5 shows an embodiment of the present invention wnerein the faces form a hexagonal configuration. Scallopshaped, curved, segments 20 form the thinner portions 49a of the regularly undulating crosssectional configuration of the bottom portion of the container with 49 representing the thicker portions. Said segments may constitute parts of circles, to facilitate manufacture. The process under lying the abovedescribed result progresses as follows. Given a uniform crosssectional distribution of temperature, the scallopshaped portions initiate deformation at the intersects of the flat or curved faces, because the thicker portions resist the deforming forces more than the thinner ones. As the originally scallopshaped portions thus become deformed, their surface area increases while their thickness diminishes. Consequently, they lose heat, i.e., they cool, until they offer the same resistance to deformation, or less, as the thicker, warmer portions. By then, the originally scallopshaped portions will have acquired substantial orientation in deforming. At that time both the thinner and thicker portions will deform together briefly and thereafter deformation will occur substantially in the thicker portions altogether, to the effect that the latter will become oriented, 13 approximately the same as the thinner portions. Movement continues until all portions reach the wall of blow mold 30. At that time, all bottom parts of the finished bottle are oriented, i.e., the thinner and thicker portions, 49a and 49, respectively in Figure 5. It is noted that without the scallops 20, initiation of the deformation at the intersects of the faces is not guaranteed. It may instead occur randomly, away from that location, resulting in insufficient deformation of said intersects. In other words, it is necessary to weaken the region in which deformation is to commence more than the geometry of the faceintersects can naturally provide. It is to be understood that the invention is not limited to the illustrations described and shown herein, which are deemed to be merely illustrative of the best modes of carrying out the invention, and which are susceptible of modification of form, size, arrangement of parts and details of operation. The invention rather is intended to encompass all such modifications which are within its spirit and scope as defined by the claims\\\",\\\"labels\\\":[\\\"Description\\\"]},{\\\"start\\\":16878,\\\"end\\\":19912,\\\"text\\\":\\\"1. A plastic preform for forming blow molded plastic bottles which comprises a neck portion defining an opening a tubular body portion depending therefrom and an integral bottom structure depending from the tubular body portion said preform having an outside wall face and an inside wall face with the inside wall face of the tubular body portion adjacent the bottom structure and extending onto said bottom structure having a plurality of faces with terminal portions thereof and scallopshaped segments connecting the terminal portions of each face adapted to deform upon exposure to stresses prior to deformation of the faces and thereby become subject to an increased rate and degree of orientation. 2. A preform according to claim 1 wherein said faces are in the form of a polygon. 3. A preform according to claim 1 wherein said faces are flat. 4. A preform according to claim 1 wherein said faces are curved inwardly by reference to said inside wall. 15 5. A preform according to claim 1 wherein said faces are curved outwardly by reference to said inside wall. 6. A preform according to claim 1 wherein the wail thickness adjacent the bottom structure is less than the wall thickness of the tubular body portion. 7. A preform according to claim 1 which is injection molded. 8. A preform according to claim 1 including an axially inwardly directed conical part on said bottom structure. 9. A preform according to claim 1 wherein each of said segments constitutes a segment of a continuous curve. 10. A preform according to claim 9, wherein said curve is a conic section. 1L. A preform according to claim 9 wherein said curve is blended into an adjoining face. 16 12. A blow molded plastic container prepared from the preform of claim 1 by stretch blow melding. 13. The method which comprises providing a Plastic preform having a neck portion defining an cpening, a tubular body portion depending therefrom, and an integral bottom structure depending from the tubular body portion said preform having an outside wall face and an inside wall face with the inside wall face of the tubular body portion adjacent the bottom structure and extending onto said bottom structure having a plurality of faces, deforming said preform to form an oriented plastic bottle, wherein the deformation of the tubular body portion adjacent the bettem structure and extending onte said bottom structure commences at weakened regions between said faces, while the crosssectional temperature distribution thereof is substantially uniform. 14. The method according to claim 13 wherein said weakened regions are scallopshapedc segments. 15. The method according to claim 13 wherein said deformation commencement is followed by eformation of the area adjacent said faces until completion of deformation to form said bottle. 17 16, A plastic preform substantially as herein described with reference to the accompanying drawings. 17, A method of forming an oriented plastic bottle substantially as herein described with reference to the accompanying drawings\\\",\\\"labels\\\":[\\\"Claims\\\"]}]\"\n        ],\n        \"semantic_type\": \"\",\n        \"description\": \"\"\n      }\n    },\n    {\n      \"column\": \"lead_time\",\n      \"properties\": {\n        \"dtype\": \"number\",\n        \"std\": 142.94769645339983,\n        \"min\": 574.668,\n        \"max\": 860.148,\n        \"num_unique_values\": 3,\n        \"samples\": [\n          730.75\n        ],\n        \"semantic_type\": \"\",\n        \"description\": \"\"\n      }\n    },\n    {\n      \"column\": \"text\",\n      \"properties\": {\n        \"dtype\": \"string\",\n        \"num_unique_values\": 3,\n        \"samples\": [\n          \"SPOOR AND FISHER  FORM P.8. To be lodged in duplicate REPUBLIC OF SOUTH AFRICA PATENTS ACT, 1978 PUBLICATION PARTICULARS AND ABSTRACT Section 323a  Regulations 221g and 31 OFFICIAL APPLICATION NO. LODGING DATE ACCEPTANCE DATE NOT FOR PUBLICATION CLASSIFIED BY SFE FULL NAMES OF APPLICANTS PLASTICON PATENTS, S.A. FULL NAMES OF tNVENTORS Herbert STRASSHEIMER EARLIEST PRIORITY CLAIMED COUNTRY NUMBER . DATE 262,781 26.16.88 TITLE OF INVENTION CONTAINER ABSTRACT NOT MORE THAN 150 WORDS NUMBER OF SHEETS 22 A 3 1f no classification Is furnished. Form P.9 should accompany this form The figure of the drawings to which the abstract refers Is attached A ABSTRACT OF THE DISCLOSUPE Ss A plastic prefcrm for fcerming Flow molded plastic containers wherein the inside wall face cf the tubular boy portion adjacent the bottom structure and extending onto the bottom structure has a plurality of faces with termina portions thereof. Scallopshaped segments are provided connecting the terminal portions of each face to initiate deformation prior to deformation of the faces and thereby have an increased rate and degree of orientation. PLASTICON PATENTS, S.A. OR PUBLICATION Fi APPLICATION NO. FIGURE 5  pry 7 LIL p Lo Do 3 j SZ BACKGROUND OF THE INVENTION This invention relates to thermoplastic containers for the retention of fluids under pressure, such as carbonated beverages and the like. These containers may be prepared from a preform or parison which may be injection molded, followed py blow molding said parison into a suitably shaped container. A typical thermoplastic material is poly ethylene terephthalate or PET, although others can be used. The container configuration generally includes a neck portion with a capreceiving means, a shoulder portion depending therefrom, a side wall or main body portion depending from the shoulder portion and a bottom wall joined to the side wall. In many of these containers the bottom wall has a champagne bottle bottom configuration with an internal, axially inwardly directed, generally conical part. The bottom wall of these containers represents a weak part of the container. Also, it is essential to provide a bottom shape capable of serving as a stable base support, since beverage under pressure within the container has a tendency to deform the bottom wall by inverting the inwardly directed conical part, thereby rendering the bottle unstable. Many attempts have been made to overcome these problems while at the same time providing a construction which is inexpensive and economical to process. For example, U.S. Patent Number 3,881,621 provides ribs to strengtnen the bottom wall however, this still provides insufficient reinforcement. U.S. Patent Number 4,134,510 provides a plurality of concentric annular strengthening ribs and a plurality of additional intersecting radial ribs in a complex pattern which is expensive to produce. U.S. Patents 4,620,639, 4,261,948, 4,603,831, and 4,334,627 utilize a plurality of inwardly projecting solid ribs so that the bottom wall is thicker at the ribbed portion than at the remainder of the bottom wall however, this results ina container having substantial and sharply defined, sudden differences in wall thickness with resultant sharp differences in processing properties and in the properties of the finished base. U.S. Patent No. 4,785,948, by Herbert Strassheimer, teaches an improved plastic preform for forming blow molded plastic containers and the resultant improved plastic containers wherein the container has a tubular body portion adjacent a bottom portion and, extending onto the bottom portion, circumferentially spaced radially extending continuous alterations in wall re thickness. The preform is characterized by the bottom structure thereof having a plurality of faces capable of forming, in the blow molded plastic bottle, a bottom portion having said circumferentially spaced radially extending continuous alterations in wall thickness witn a regularly undulating cross section across the circumference thereof, wherein said alterations in wall thickness are progressive and gradual. The teaching of said U.S. Patent 4,7857948 provides a stable and reinforced bottom wall configuration which is simple in construction and inexpensive to prepare and a preform which is similarly convenient and expeditious to prepare. However, it is desirable to further improve the characteristics of the said container, especially the bottom regions corresponding to the corners between the said faces of the preform. In large bottles, e.g., 2liter and above, it is highly desirable, at times indeed necessary, to enhance the properties at this region by increasing local orientation. It is therefore a principal object of the present invention to provide an improved plastic preform and an improved thermoplastic container prepared therefrom having a stable and reinforced bottom wall configuration. It is a further object of the present invention to provide an improved preform and container as aforesaid Ad which is simple in construction and inexpensive to prepare. Further objects and advantages of the present invention will appear nereinbelow. SUMMARY OF THE INVENTION The preform or parison of the present invention is for forming blow molded plastic containers and comprises a neck portion defining an opening, a tubular body portion depending therefrom, and an integral bottom structure depending from the tubular body portion, said preform having an outside wall face and an inside wall face, with the inside wall face of the tubular body portion adjacent the bottom structure and extending onto the bottom structure having a plurality of faces with terminal portions thereof, scallopshaped segments connecting the terminal portions of each face adapted to deform upon exposure to stresses prior to deformation of the faces and thereby become subject to an increased rate and degree of orientation. The faces may be flat or curved, and the terminal portions of each face connecting the scallopshaped seqments may be rounded to eliminate sharp corners. In a preferred embodiment the faces form a polygonal configuration, e.g., nexagonal or octogonal, although other configurations may readily be employed such as for example obtained by replacing the flat faces of the polygon by curved faces. In addition, the wall thickness adjacent the bottom structure may be less than the wall thickness of the tubular body portion. The present invention also provides an improved blow molded plastic container prepared from the aforesaid plastic preform by stretchblow molding. The construction of the preform and resultant container provides significant advantages, especially in the larger bottle diameters, Naturally, the larger the pottle diameter particularly at the base, the higher the tensile strength and creep resistance that are required of the material at the base. Considering for example any polygonal configuration, be it with flat or curved faces, the thick portions around the peripnery of the preform which then form the thickened regions in the corresponding locations of the container, produce regions of sufficient strenath due to their given degree of orientation as supported by the thickened wall. However, the bottle regions corresponding to the corners, i.e., intersects between the said faces may, depending on the size of the bottle, not have sufficient strength. In accordance with the present invention, the inventor herein provides scallopshaped segments connecting the terminal portions of each face of the preform. With the temperature in the thickened and scallopshaped segments tne same at the time deformation is started, predictable and controlled deformation in blowing, particularly circumferential stretch, is initiated at the corner regions before deformation is initiated at the thickened portions. Correspondingly, the said scallopsnaped segments have an increased rate and degree of orientation compared to the thickened portions. Also, the deformation of the scallopshaped segments will tend to occur at a lower temperature because the heat retention in the thinner section is smaller to begin with and the drop in temperature during deformation accelerates in keeping with the corresponding degree of thinning of the cross section. The resultant container is provided with continuous alterations in wall thickness with a regularly undulating cross section across the entire circumference of the inside wall face which is progressive and gradual, wherein said continuous alterations in wall thickness are provided on the tubular body portion adjacent the bottom portion and extending onto the bottom portion, the thinner portions of the continuous alterations in wall thickness extending in length due to the aforesaid provision of the scallops in the preform. It has been found that the overall strength of the bottom portion is increased especially at the thinner portions due to the increased rate and degree of orientation described hereinabove. The foregoing features and advantages of the construction of the present invention and others will be discussed hereinbelow. BRIEF DESCRIPTION OF THE DRAWINGS The foregoing will be more readily apparent when considered in connection with the following illustrative examples wherein Figure 1 is a sectional view of a preform of the present invention Figure 2a is an enlarged sectional view along lines 22 of Figure 1 Figure 2b is an alternate embodiment similar to Figure 2a Figure 3 is a partial sectional view taken through a mold for molding a container and having associated therewith a preform of the present invention similar to the preform of Figure 1 which is to be stretched and blown therein to form a container of the present invention Figure 4 is an elevational view of a container formed in Figure 3 Figure 5 is an enlarged sectional view taken along lines 55 of Figure 4, with the corresponding sectional view of Figure 2 superimposed therein in phantom Figure 6 is a partial, enlarged sectional view of the bottom portion and adjacent tubular body portion of the container of Figure 4 and Figures 7 and 8 are enlarged sectional views of alternate embodiments similar to Figures 2a and 2b. DETAILED DESCRIPTION Referring now to the drawings in detail, a plastic parison or preform 10 is formed by injection molding from a synthetic resin which can be biaxiaily oriented, as for example poly ethylene terephthalate. The preform 10 has a neck portion 11 defining an opening 12 and it may be provided with external threads 13 to serve as the site for attachment of a cap on the finished, blow molded plastic container. The preform 10 has a tubular body portion 14 depending from the neck portion 11 and an integral bottom structure 15 depending from 9 Yok the tubular body portion. The preform 10 has an outside wall face 16 and an inside wall face 17. The inside wall face 17 of the tubular body portion 14 is provided with a thickened portion 18 which extends onto bottom structure 15 and is characterized by a plurality of faces 19 with terminal portions thereof 19a. Scallopshaped segments 20 connect the terminal portions of each face constituting weakened regions. Three or more of said faces may be used. The said faces may be flat as in Figures 2a and 2b, or curved as in Figures 7 and 8. For example, the hexagonal configuration of Figures 2a or the octagonal configuration of Figure 2b may readily be employed. The bottom structure 15 as shown in Figure 1 may be flat or may be provided with an axially inwardly directed conical part 21 as shown in Figure 3. As shown in the alternate embodiment of Figure 7, which is an enlarged sectional view similar to Figures 2a and 2b, faces 119 are concave curves with any reasonable curvature being suitable, while the alternate embodiment of Figure 8 shows convex curves 219. Terminal portions 119a and 219a connecting scallopshaped segments 120 and 220 are rounded to eliminate sharp corners and biend the scallopshaped segments into the faces. The choice between the several available shapes of the faces, as a rule, depends on how gradual the transition from thicker to thinner regions of the base is to be for a given size and bottle configuration. As shown in Figure l, thickened portion 18 includes a lower portion 18a adjacent the bottom structure having a wall thickness less than the wall thickness of the adjacent thickened portion 18. It has been found in accordance with the present invention that this may be employed in order to save material costs without loss of necessary properties in view of the significant advantages obtained in accordance with the present invention. Alternately, if desired, external ribs may be provided on the preform as disclosed in U.S. Patent 4,785,948. The thus formed preform is brought to a temperature at which blow molding can be accomplished which may be done by heating a previously formed preform or forming the hot preform in line with the blow molding operation and suitably adjusting the temperature thereof. The heated preform is then placed in a blow mold having the configuration of the desired container as blow mold 30 shown in Figure 3 and while blowing compressed air thereinto, the interior side of bottom portion 15 is pushed down by movable means 31 to effect biaxial ll orientation. The particular blow mold 30 shown in Figure 3 has an internal configuration which allows the formation of a plastic container 40 see Figure 4 having a desired configuration. It is particularly preferred in accordance with the present invention to provide stretching of the bottom region and of the tubular body portion in different amounts, to impart at least to the said bottom region continuous variations of thickness, the thick parts thereof on average being thicker than the average body wall thickness of the container body portion. A method using a stretch rod having a thickened distal end is fully disclosed in copending application SN 142,004, filed January 11, 1988, the disclosure of which is hereby incorporated by reference. thus, blow molded plastic container 40 is formed having a neck portion 41 defining an opening 42, a pottom portion 43, a tubular body portion 44 interconnecting the neck portion 41 and the bottom portion 43. Neck portion 41 is provided with external threads 45 to serve as the site for attachment of a cap on the container, as with preform 10. The bottom portion 43 has an internal, axially inwardly directed generally conical part 46. l2 Figure 5 shows an embodiment of the present invention wnerein the faces form a hexagonal configuration. Scallopshaped, curved, segments 20 form the thinner portions 49a of the regularly undulating crosssectional configuration of the bottom portion of the container with 49 representing the thicker portions. Said segments may constitute parts of circles, to facilitate manufacture. The process under lying the abovedescribed result progresses as follows. Given a uniform crosssectional distribution of temperature, the scallopshaped portions initiate deformation at the intersects of the flat or curved faces, because the thicker portions resist the deforming forces more than the thinner ones. As the originally scallopshaped portions thus become deformed, their surface area increases while their thickness diminishes. Consequently, they lose heat, i.e., they cool, until they offer the same resistance to deformation, or less, as the thicker, warmer portions. By then, the originally scallopshaped portions will have acquired substantial orientation in deforming. At that time both the thinner and thicker portions will deform together briefly and thereafter deformation will occur substantially in the thicker portions altogether, to the effect that the latter will become oriented, 13 approximately the same as the thinner portions. Movement continues until all portions reach the wall of blow mold 30. At that time, all bottom parts of the finished bottle are oriented, i.e., the thinner and thicker portions, 49a and 49, respectively in Figure 5. It is noted that without the scallops 20, initiation of the deformation at the intersects of the faces is not guaranteed. It may instead occur randomly, away from that location, resulting in insufficient deformation of said intersects. In other words, it is necessary to weaken the region in which deformation is to commence more than the geometry of the faceintersects can naturally provide. It is to be understood that the invention is not limited to the illustrations described and shown herein, which are deemed to be merely illustrative of the best modes of carrying out the invention, and which are susceptible of modification of form, size, arrangement of parts and details of operation. The invention rather is intended to encompass all such modifications which are within its spirit and scope as defined by the claims. 14 CLAIMS 1. A plastic preform for forming blow molded plastic bottles which comprises a neck portion defining an opening a tubular body portion depending therefrom and an integral bottom structure depending from the tubular body portion said preform having an outside wall face and an inside wall face with the inside wall face of the tubular body portion adjacent the bottom structure and extending onto said bottom structure having a plurality of faces with terminal portions thereof and scallopshaped segments connecting the terminal portions of each face adapted to deform upon exposure to stresses prior to deformation of the faces and thereby become subject to an increased rate and degree of orientation. 2. A preform according to claim 1 wherein said faces are in the form of a polygon. 3. A preform according to claim 1 wherein said faces are flat. 4. A preform according to claim 1 wherein said faces are curved inwardly by reference to said inside wall. 15 5. A preform according to claim 1 wherein said faces are curved outwardly by reference to said inside wall. 6. A preform according to claim 1 wherein the wail thickness adjacent the bottom structure is less than the wall thickness of the tubular body portion. 7. A preform according to claim 1 which is injection molded. 8. A preform according to claim 1 including an axially inwardly directed conical part on said bottom structure. 9. A preform according to claim 1 wherein each of said segments constitutes a segment of a continuous curve. 10. A preform according to claim 9, wherein said curve is a conic section. 1L. A preform according to claim 9 wherein said curve is blended into an adjoining face. 16 12. A blow molded plastic container prepared from the preform of claim 1 by stretch blow melding. 13. The method which comprises providing a Plastic preform having a neck portion defining an cpening, a tubular body portion depending therefrom, and an integral bottom structure depending from the tubular body portion said preform having an outside wall face and an inside wall face with the inside wall face of the tubular body portion adjacent the bottom structure and extending onto said bottom structure having a plurality of faces, deforming said preform to form an oriented plastic bottle, wherein the deformation of the tubular body portion adjacent the bettem structure and extending onte said bottom structure commences at weakened regions between said faces, while the crosssectional temperature distribution thereof is substantially uniform. 14. The method according to claim 13 wherein said weakened regions are scallopshapedc segments. 15. The method according to claim 13 wherein said deformation commencement is followed by eformation of the area adjacent said faces until completion of deformation to form said bottle. 17 16, A plastic preform substantially as herein described with reference to the accompanying drawings. 17, A method of forming an oriented plastic bottle substantially as herein described with reference to the accompanying drawings. DATED THIS 15 DAY OF AUGUST 1989 Ah OF SPOOR AND FISHER PATENT ATTORNEYS FOR THE APPLICANT 4 SHEETS SHEET 1 COMPLETE SPECIFICATION 8 PLASTICON PATENTS, S.A.  PLASTICON PATENTS, S.A. 4 SHEETS COMPLETE SPECIFICATION SHEET 2 4 SHEETS SHEET 3 Arch op rid \"\n        ],\n        \"semantic_type\": \"\",\n        \"description\": \"\"\n      }\n    },\n    {\n      \"column\": \"updated_at\",\n      \"properties\": {\n        \"dtype\": \"object\",\n        \"num_unique_values\": 3,\n        \"samples\": [\n          \"2025-03-03T08:20:37.092306Z\"\n        ],\n        \"semantic_type\": \"\",\n        \"description\": \"\"\n      }\n    }\n  ]\n}"
            }
          },
          "metadata": {},
          "execution_count": 64
        }
      ]
    },
    {
      "cell_type": "code",
      "source": [
        "# Display some values in the 'label' column to check its format\n",
        "df['label'].head(5)\n"
      ],
      "metadata": {
        "colab": {
          "base_uri": "https://localhost:8080/",
          "height": 178
        },
        "id": "LED0IMT7IF8b",
        "outputId": "197f4f33-532b-4e46-de4e-31f1e8f527ce"
      },
      "execution_count": 65,
      "outputs": [
        {
          "output_type": "execute_result",
          "data": {
            "text/plain": [
              "0    [{\"start\":442,\"end\":451,\"text\":\"CONTAINER\",\"la...\n",
              "1    [{\"start\":592,\"end\":622,\"text\":\"VENDING MACHIN...\n",
              "2    [{\"start\":525,\"end\":562,\"text\":\" Bluetooth Ena...\n",
              "Name: label, dtype: object"
            ],
            "text/html": [
              "<div>\n",
              "<style scoped>\n",
              "    .dataframe tbody tr th:only-of-type {\n",
              "        vertical-align: middle;\n",
              "    }\n",
              "\n",
              "    .dataframe tbody tr th {\n",
              "        vertical-align: top;\n",
              "    }\n",
              "\n",
              "    .dataframe thead th {\n",
              "        text-align: right;\n",
              "    }\n",
              "</style>\n",
              "<table border=\"1\" class=\"dataframe\">\n",
              "  <thead>\n",
              "    <tr style=\"text-align: right;\">\n",
              "      <th></th>\n",
              "      <th>label</th>\n",
              "    </tr>\n",
              "  </thead>\n",
              "  <tbody>\n",
              "    <tr>\n",
              "      <th>0</th>\n",
              "      <td>[{\"start\":442,\"end\":451,\"text\":\"CONTAINER\",\"la...</td>\n",
              "    </tr>\n",
              "    <tr>\n",
              "      <th>1</th>\n",
              "      <td>[{\"start\":592,\"end\":622,\"text\":\"VENDING MACHIN...</td>\n",
              "    </tr>\n",
              "    <tr>\n",
              "      <th>2</th>\n",
              "      <td>[{\"start\":525,\"end\":562,\"text\":\" Bluetooth Ena...</td>\n",
              "    </tr>\n",
              "  </tbody>\n",
              "</table>\n",
              "</div><br><label><b>dtype:</b> object</label>"
            ]
          },
          "metadata": {},
          "execution_count": 65
        }
      ]
    },
    {
      "cell_type": "code",
      "source": [
        "import ast\n",
        "\n",
        "# Take one sample row to see if the function works\n",
        "sample_label = df['label'].iloc[0]  # Get first row\n",
        "print(\"Raw label data:\", sample_label)\n",
        "\n",
        "# Try extracting annotations\n",
        "try:\n",
        "    annotations = ast.literal_eval(sample_label)\n",
        "    extracted_text = {entry[\"label\"]: entry[\"text\"] for entry in annotations}\n",
        "    print(\"Extracted:\", extracted_text)\n",
        "except Exception as e:\n",
        "    print(\"Error:\", e)\n"
      ],
      "metadata": {
        "colab": {
          "base_uri": "https://localhost:8080/"
        },
        "id": "genm2R-aLVfj",
        "outputId": "cfef4067-dbad-4caa-ffdd-77d5c272e033"
      },
      "execution_count": 66,
      "outputs": [
        {
          "output_type": "stream",
          "name": "stdout",
          "text": [
            "Raw label data: [{\"start\":442,\"end\":451,\"text\":\"CONTAINER\",\"labels\":[\"Title of the Invention\"]},{\"start\":679,\"end\":1124,\"text\":\" A plastic prefcrm for fcerming Flow molded plastic containers wherein the inside wall face cf the tubular boy portion adjacent the bottom structure and extending onto the bottom structure has a plurality of faces with termina portions thereof. Scallopshaped segments are provided connecting the terminal portions of each face to initiate deformation prior to deformation of the faces and thereby have an increased rate and degree of orientation\",\"labels\":[\"Abstract\"]},{\"start\":10221,\"end\":16866,\"text\":\"Referring now to the drawings in detail, a plastic parison or preform 10 is formed by injection molding from a synthetic resin which can be biaxiaily oriented, as for example poly ethylene terephthalate. The preform 10 has a neck portion 11 defining an opening 12 and it may be provided with external threads 13 to serve as the site for attachment of a cap on the finished, blow molded plastic container. The preform 10 has a tubular body portion 14 depending from the neck portion 11 and an integral bottom structure 15 depending from 9 Yok the tubular body portion. The preform 10 has an outside wall face 16 and an inside wall face 17. The inside wall face 17 of the tubular body portion 14 is provided with a thickened portion 18 which extends onto bottom structure 15 and is characterized by a plurality of faces 19 with terminal portions thereof 19a. Scallopshaped segments 20 connect the terminal portions of each face constituting weakened regions. Three or more of said faces may be used. The said faces may be flat as in Figures 2a and 2b, or curved as in Figures 7 and 8. For example, the hexagonal configuration of Figures 2a or the octagonal configuration of Figure 2b may readily be employed. The bottom structure 15 as shown in Figure 1 may be flat or may be provided with an axially inwardly directed conical part 21 as shown in Figure 3. As shown in the alternate embodiment of Figure 7, which is an enlarged sectional view similar to Figures 2a and 2b, faces 119 are concave curves with any reasonable curvature being suitable, while the alternate embodiment of Figure 8 shows convex curves 219. Terminal portions 119a and 219a connecting scallopshaped segments 120 and 220 are rounded to eliminate sharp corners and biend the scallopshaped segments into the faces. The choice between the several available shapes of the faces, as a rule, depends on how gradual the transition from thicker to thinner regions of the base is to be for a given size and bottle configuration. As shown in Figure l, thickened portion 18 includes a lower portion 18a adjacent the bottom structure having a wall thickness less than the wall thickness of the adjacent thickened portion 18. It has been found in accordance with the present invention that this may be employed in order to save material costs without loss of necessary properties in view of the significant advantages obtained in accordance with the present invention. Alternately, if desired, external ribs may be provided on the preform as disclosed in U.S. Patent 4,785,948. The thus formed preform is brought to a temperature at which blow molding can be accomplished which may be done by heating a previously formed preform or forming the hot preform in line with the blow molding operation and suitably adjusting the temperature thereof. The heated preform is then placed in a blow mold having the configuration of the desired container as blow mold 30 shown in Figure 3 and while blowing compressed air thereinto, the interior side of bottom portion 15 is pushed down by movable means 31 to effect biaxial ll orientation. The particular blow mold 30 shown in Figure 3 has an internal configuration which allows the formation of a plastic container 40 see Figure 4 having a desired configuration. It is particularly preferred in accordance with the present invention to provide stretching of the bottom region and of the tubular body portion in different amounts, to impart at least to the said bottom region continuous variations of thickness, the thick parts thereof on average being thicker than the average body wall thickness of the container body portion. A method using a stretch rod having a thickened distal end is fully disclosed in copending application SN 142,004, filed January 11, 1988, the disclosure of which is hereby incorporated by reference. thus, blow molded plastic container 40 is formed having a neck portion 41 defining an opening 42, a pottom portion 43, a tubular body portion 44 interconnecting the neck portion 41 and the bottom portion 43. Neck portion 41 is provided with external threads 45 to serve as the site for attachment of a cap on the container, as with preform 10. The bottom portion 43 has an internal, axially inwardly directed generally conical part 46. l2 Figure 5 shows an embodiment of the present invention wnerein the faces form a hexagonal configuration. Scallopshaped, curved, segments 20 form the thinner portions 49a of the regularly undulating crosssectional configuration of the bottom portion of the container with 49 representing the thicker portions. Said segments may constitute parts of circles, to facilitate manufacture. The process under lying the abovedescribed result progresses as follows. Given a uniform crosssectional distribution of temperature, the scallopshaped portions initiate deformation at the intersects of the flat or curved faces, because the thicker portions resist the deforming forces more than the thinner ones. As the originally scallopshaped portions thus become deformed, their surface area increases while their thickness diminishes. Consequently, they lose heat, i.e., they cool, until they offer the same resistance to deformation, or less, as the thicker, warmer portions. By then, the originally scallopshaped portions will have acquired substantial orientation in deforming. At that time both the thinner and thicker portions will deform together briefly and thereafter deformation will occur substantially in the thicker portions altogether, to the effect that the latter will become oriented, 13 approximately the same as the thinner portions. Movement continues until all portions reach the wall of blow mold 30. At that time, all bottom parts of the finished bottle are oriented, i.e., the thinner and thicker portions, 49a and 49, respectively in Figure 5. It is noted that without the scallops 20, initiation of the deformation at the intersects of the faces is not guaranteed. It may instead occur randomly, away from that location, resulting in insufficient deformation of said intersects. In other words, it is necessary to weaken the region in which deformation is to commence more than the geometry of the faceintersects can naturally provide. It is to be understood that the invention is not limited to the illustrations described and shown herein, which are deemed to be merely illustrative of the best modes of carrying out the invention, and which are susceptible of modification of form, size, arrangement of parts and details of operation. The invention rather is intended to encompass all such modifications which are within its spirit and scope as defined by the claims\",\"labels\":[\"Description\"]},{\"start\":16878,\"end\":19912,\"text\":\"1. A plastic preform for forming blow molded plastic bottles which comprises a neck portion defining an opening a tubular body portion depending therefrom and an integral bottom structure depending from the tubular body portion said preform having an outside wall face and an inside wall face with the inside wall face of the tubular body portion adjacent the bottom structure and extending onto said bottom structure having a plurality of faces with terminal portions thereof and scallopshaped segments connecting the terminal portions of each face adapted to deform upon exposure to stresses prior to deformation of the faces and thereby become subject to an increased rate and degree of orientation. 2. A preform according to claim 1 wherein said faces are in the form of a polygon. 3. A preform according to claim 1 wherein said faces are flat. 4. A preform according to claim 1 wherein said faces are curved inwardly by reference to said inside wall. 15 5. A preform according to claim 1 wherein said faces are curved outwardly by reference to said inside wall. 6. A preform according to claim 1 wherein the wail thickness adjacent the bottom structure is less than the wall thickness of the tubular body portion. 7. A preform according to claim 1 which is injection molded. 8. A preform according to claim 1 including an axially inwardly directed conical part on said bottom structure. 9. A preform according to claim 1 wherein each of said segments constitutes a segment of a continuous curve. 10. A preform according to claim 9, wherein said curve is a conic section. 1L. A preform according to claim 9 wherein said curve is blended into an adjoining face. 16 12. A blow molded plastic container prepared from the preform of claim 1 by stretch blow melding. 13. The method which comprises providing a Plastic preform having a neck portion defining an cpening, a tubular body portion depending therefrom, and an integral bottom structure depending from the tubular body portion said preform having an outside wall face and an inside wall face with the inside wall face of the tubular body portion adjacent the bottom structure and extending onto said bottom structure having a plurality of faces, deforming said preform to form an oriented plastic bottle, wherein the deformation of the tubular body portion adjacent the bettem structure and extending onte said bottom structure commences at weakened regions between said faces, while the crosssectional temperature distribution thereof is substantially uniform. 14. The method according to claim 13 wherein said weakened regions are scallopshapedc segments. 15. The method according to claim 13 wherein said deformation commencement is followed by eformation of the area adjacent said faces until completion of deformation to form said bottle. 17 16, A plastic preform substantially as herein described with reference to the accompanying drawings. 17, A method of forming an oriented plastic bottle substantially as herein described with reference to the accompanying drawings\",\"labels\":[\"Claims\"]}]\n",
            "Error: 'label'\n"
          ]
        }
      ]
    },
    {
      "cell_type": "code",
      "source": [
        "import ast\n",
        "\n",
        "def extract_annotations(label_data):\n",
        "    try:\n",
        "        annotations = ast.literal_eval(label_data)  # Convert string to list of dictionaries\n",
        "        extracted_text = {}\n",
        "        for entry in annotations:\n",
        "            label_name = entry[\"labels\"][0]  # Get the first label (assuming one per entry)\n",
        "            extracted_text[label_name] = entry[\"text\"]\n",
        "        return extracted_text\n",
        "    except Exception as e:\n",
        "        print(\"Error in extraction:\", e)\n",
        "        return {}  # Return empty dictionary in case of failure\n"
      ],
      "metadata": {
        "id": "39usT0-8Xjt8"
      },
      "execution_count": 67,
      "outputs": []
    },
    {
      "cell_type": "code",
      "source": [
        "sample_label = df['label'].iloc[0]\n",
        "print(\"Raw label:\", sample_label)\n",
        "\n",
        "extracted_sample = extract_annotations(sample_label)\n",
        "print(\"Extracted sample:\", extracted_sample)\n"
      ],
      "metadata": {
        "colab": {
          "base_uri": "https://localhost:8080/"
        },
        "id": "wIvg0YVkXjfq",
        "outputId": "e63e942e-372b-464c-e057-6b81223a91c3"
      },
      "execution_count": 68,
      "outputs": [
        {
          "output_type": "stream",
          "name": "stdout",
          "text": [
            "Raw label: [{\"start\":442,\"end\":451,\"text\":\"CONTAINER\",\"labels\":[\"Title of the Invention\"]},{\"start\":679,\"end\":1124,\"text\":\" A plastic prefcrm for fcerming Flow molded plastic containers wherein the inside wall face cf the tubular boy portion adjacent the bottom structure and extending onto the bottom structure has a plurality of faces with termina portions thereof. Scallopshaped segments are provided connecting the terminal portions of each face to initiate deformation prior to deformation of the faces and thereby have an increased rate and degree of orientation\",\"labels\":[\"Abstract\"]},{\"start\":10221,\"end\":16866,\"text\":\"Referring now to the drawings in detail, a plastic parison or preform 10 is formed by injection molding from a synthetic resin which can be biaxiaily oriented, as for example poly ethylene terephthalate. The preform 10 has a neck portion 11 defining an opening 12 and it may be provided with external threads 13 to serve as the site for attachment of a cap on the finished, blow molded plastic container. The preform 10 has a tubular body portion 14 depending from the neck portion 11 and an integral bottom structure 15 depending from 9 Yok the tubular body portion. The preform 10 has an outside wall face 16 and an inside wall face 17. The inside wall face 17 of the tubular body portion 14 is provided with a thickened portion 18 which extends onto bottom structure 15 and is characterized by a plurality of faces 19 with terminal portions thereof 19a. Scallopshaped segments 20 connect the terminal portions of each face constituting weakened regions. Three or more of said faces may be used. The said faces may be flat as in Figures 2a and 2b, or curved as in Figures 7 and 8. For example, the hexagonal configuration of Figures 2a or the octagonal configuration of Figure 2b may readily be employed. The bottom structure 15 as shown in Figure 1 may be flat or may be provided with an axially inwardly directed conical part 21 as shown in Figure 3. As shown in the alternate embodiment of Figure 7, which is an enlarged sectional view similar to Figures 2a and 2b, faces 119 are concave curves with any reasonable curvature being suitable, while the alternate embodiment of Figure 8 shows convex curves 219. Terminal portions 119a and 219a connecting scallopshaped segments 120 and 220 are rounded to eliminate sharp corners and biend the scallopshaped segments into the faces. The choice between the several available shapes of the faces, as a rule, depends on how gradual the transition from thicker to thinner regions of the base is to be for a given size and bottle configuration. As shown in Figure l, thickened portion 18 includes a lower portion 18a adjacent the bottom structure having a wall thickness less than the wall thickness of the adjacent thickened portion 18. It has been found in accordance with the present invention that this may be employed in order to save material costs without loss of necessary properties in view of the significant advantages obtained in accordance with the present invention. Alternately, if desired, external ribs may be provided on the preform as disclosed in U.S. Patent 4,785,948. The thus formed preform is brought to a temperature at which blow molding can be accomplished which may be done by heating a previously formed preform or forming the hot preform in line with the blow molding operation and suitably adjusting the temperature thereof. The heated preform is then placed in a blow mold having the configuration of the desired container as blow mold 30 shown in Figure 3 and while blowing compressed air thereinto, the interior side of bottom portion 15 is pushed down by movable means 31 to effect biaxial ll orientation. The particular blow mold 30 shown in Figure 3 has an internal configuration which allows the formation of a plastic container 40 see Figure 4 having a desired configuration. It is particularly preferred in accordance with the present invention to provide stretching of the bottom region and of the tubular body portion in different amounts, to impart at least to the said bottom region continuous variations of thickness, the thick parts thereof on average being thicker than the average body wall thickness of the container body portion. A method using a stretch rod having a thickened distal end is fully disclosed in copending application SN 142,004, filed January 11, 1988, the disclosure of which is hereby incorporated by reference. thus, blow molded plastic container 40 is formed having a neck portion 41 defining an opening 42, a pottom portion 43, a tubular body portion 44 interconnecting the neck portion 41 and the bottom portion 43. Neck portion 41 is provided with external threads 45 to serve as the site for attachment of a cap on the container, as with preform 10. The bottom portion 43 has an internal, axially inwardly directed generally conical part 46. l2 Figure 5 shows an embodiment of the present invention wnerein the faces form a hexagonal configuration. Scallopshaped, curved, segments 20 form the thinner portions 49a of the regularly undulating crosssectional configuration of the bottom portion of the container with 49 representing the thicker portions. Said segments may constitute parts of circles, to facilitate manufacture. The process under lying the abovedescribed result progresses as follows. Given a uniform crosssectional distribution of temperature, the scallopshaped portions initiate deformation at the intersects of the flat or curved faces, because the thicker portions resist the deforming forces more than the thinner ones. As the originally scallopshaped portions thus become deformed, their surface area increases while their thickness diminishes. Consequently, they lose heat, i.e., they cool, until they offer the same resistance to deformation, or less, as the thicker, warmer portions. By then, the originally scallopshaped portions will have acquired substantial orientation in deforming. At that time both the thinner and thicker portions will deform together briefly and thereafter deformation will occur substantially in the thicker portions altogether, to the effect that the latter will become oriented, 13 approximately the same as the thinner portions. Movement continues until all portions reach the wall of blow mold 30. At that time, all bottom parts of the finished bottle are oriented, i.e., the thinner and thicker portions, 49a and 49, respectively in Figure 5. It is noted that without the scallops 20, initiation of the deformation at the intersects of the faces is not guaranteed. It may instead occur randomly, away from that location, resulting in insufficient deformation of said intersects. In other words, it is necessary to weaken the region in which deformation is to commence more than the geometry of the faceintersects can naturally provide. It is to be understood that the invention is not limited to the illustrations described and shown herein, which are deemed to be merely illustrative of the best modes of carrying out the invention, and which are susceptible of modification of form, size, arrangement of parts and details of operation. The invention rather is intended to encompass all such modifications which are within its spirit and scope as defined by the claims\",\"labels\":[\"Description\"]},{\"start\":16878,\"end\":19912,\"text\":\"1. A plastic preform for forming blow molded plastic bottles which comprises a neck portion defining an opening a tubular body portion depending therefrom and an integral bottom structure depending from the tubular body portion said preform having an outside wall face and an inside wall face with the inside wall face of the tubular body portion adjacent the bottom structure and extending onto said bottom structure having a plurality of faces with terminal portions thereof and scallopshaped segments connecting the terminal portions of each face adapted to deform upon exposure to stresses prior to deformation of the faces and thereby become subject to an increased rate and degree of orientation. 2. A preform according to claim 1 wherein said faces are in the form of a polygon. 3. A preform according to claim 1 wherein said faces are flat. 4. A preform according to claim 1 wherein said faces are curved inwardly by reference to said inside wall. 15 5. A preform according to claim 1 wherein said faces are curved outwardly by reference to said inside wall. 6. A preform according to claim 1 wherein the wail thickness adjacent the bottom structure is less than the wall thickness of the tubular body portion. 7. A preform according to claim 1 which is injection molded. 8. A preform according to claim 1 including an axially inwardly directed conical part on said bottom structure. 9. A preform according to claim 1 wherein each of said segments constitutes a segment of a continuous curve. 10. A preform according to claim 9, wherein said curve is a conic section. 1L. A preform according to claim 9 wherein said curve is blended into an adjoining face. 16 12. A blow molded plastic container prepared from the preform of claim 1 by stretch blow melding. 13. The method which comprises providing a Plastic preform having a neck portion defining an cpening, a tubular body portion depending therefrom, and an integral bottom structure depending from the tubular body portion said preform having an outside wall face and an inside wall face with the inside wall face of the tubular body portion adjacent the bottom structure and extending onto said bottom structure having a plurality of faces, deforming said preform to form an oriented plastic bottle, wherein the deformation of the tubular body portion adjacent the bettem structure and extending onte said bottom structure commences at weakened regions between said faces, while the crosssectional temperature distribution thereof is substantially uniform. 14. The method according to claim 13 wherein said weakened regions are scallopshapedc segments. 15. The method according to claim 13 wherein said deformation commencement is followed by eformation of the area adjacent said faces until completion of deformation to form said bottle. 17 16, A plastic preform substantially as herein described with reference to the accompanying drawings. 17, A method of forming an oriented plastic bottle substantially as herein described with reference to the accompanying drawings\",\"labels\":[\"Claims\"]}]\n",
            "Extracted sample: {'Title of the Invention': 'CONTAINER', 'Abstract': ' A plastic prefcrm for fcerming Flow molded plastic containers wherein the inside wall face cf the tubular boy portion adjacent the bottom structure and extending onto the bottom structure has a plurality of faces with termina portions thereof. Scallopshaped segments are provided connecting the terminal portions of each face to initiate deformation prior to deformation of the faces and thereby have an increased rate and degree of orientation', 'Description': 'Referring now to the drawings in detail, a plastic parison or preform 10 is formed by injection molding from a synthetic resin which can be biaxiaily oriented, as for example poly ethylene terephthalate. The preform 10 has a neck portion 11 defining an opening 12 and it may be provided with external threads 13 to serve as the site for attachment of a cap on the finished, blow molded plastic container. The preform 10 has a tubular body portion 14 depending from the neck portion 11 and an integral bottom structure 15 depending from 9 Yok the tubular body portion. The preform 10 has an outside wall face 16 and an inside wall face 17. The inside wall face 17 of the tubular body portion 14 is provided with a thickened portion 18 which extends onto bottom structure 15 and is characterized by a plurality of faces 19 with terminal portions thereof 19a. Scallopshaped segments 20 connect the terminal portions of each face constituting weakened regions. Three or more of said faces may be used. The said faces may be flat as in Figures 2a and 2b, or curved as in Figures 7 and 8. For example, the hexagonal configuration of Figures 2a or the octagonal configuration of Figure 2b may readily be employed. The bottom structure 15 as shown in Figure 1 may be flat or may be provided with an axially inwardly directed conical part 21 as shown in Figure 3. As shown in the alternate embodiment of Figure 7, which is an enlarged sectional view similar to Figures 2a and 2b, faces 119 are concave curves with any reasonable curvature being suitable, while the alternate embodiment of Figure 8 shows convex curves 219. Terminal portions 119a and 219a connecting scallopshaped segments 120 and 220 are rounded to eliminate sharp corners and biend the scallopshaped segments into the faces. The choice between the several available shapes of the faces, as a rule, depends on how gradual the transition from thicker to thinner regions of the base is to be for a given size and bottle configuration. As shown in Figure l, thickened portion 18 includes a lower portion 18a adjacent the bottom structure having a wall thickness less than the wall thickness of the adjacent thickened portion 18. It has been found in accordance with the present invention that this may be employed in order to save material costs without loss of necessary properties in view of the significant advantages obtained in accordance with the present invention. Alternately, if desired, external ribs may be provided on the preform as disclosed in U.S. Patent 4,785,948. The thus formed preform is brought to a temperature at which blow molding can be accomplished which may be done by heating a previously formed preform or forming the hot preform in line with the blow molding operation and suitably adjusting the temperature thereof. The heated preform is then placed in a blow mold having the configuration of the desired container as blow mold 30 shown in Figure 3 and while blowing compressed air thereinto, the interior side of bottom portion 15 is pushed down by movable means 31 to effect biaxial ll orientation. The particular blow mold 30 shown in Figure 3 has an internal configuration which allows the formation of a plastic container 40 see Figure 4 having a desired configuration. It is particularly preferred in accordance with the present invention to provide stretching of the bottom region and of the tubular body portion in different amounts, to impart at least to the said bottom region continuous variations of thickness, the thick parts thereof on average being thicker than the average body wall thickness of the container body portion. A method using a stretch rod having a thickened distal end is fully disclosed in copending application SN 142,004, filed January 11, 1988, the disclosure of which is hereby incorporated by reference. thus, blow molded plastic container 40 is formed having a neck portion 41 defining an opening 42, a pottom portion 43, a tubular body portion 44 interconnecting the neck portion 41 and the bottom portion 43. Neck portion 41 is provided with external threads 45 to serve as the site for attachment of a cap on the container, as with preform 10. The bottom portion 43 has an internal, axially inwardly directed generally conical part 46. l2 Figure 5 shows an embodiment of the present invention wnerein the faces form a hexagonal configuration. Scallopshaped, curved, segments 20 form the thinner portions 49a of the regularly undulating crosssectional configuration of the bottom portion of the container with 49 representing the thicker portions. Said segments may constitute parts of circles, to facilitate manufacture. The process under lying the abovedescribed result progresses as follows. Given a uniform crosssectional distribution of temperature, the scallopshaped portions initiate deformation at the intersects of the flat or curved faces, because the thicker portions resist the deforming forces more than the thinner ones. As the originally scallopshaped portions thus become deformed, their surface area increases while their thickness diminishes. Consequently, they lose heat, i.e., they cool, until they offer the same resistance to deformation, or less, as the thicker, warmer portions. By then, the originally scallopshaped portions will have acquired substantial orientation in deforming. At that time both the thinner and thicker portions will deform together briefly and thereafter deformation will occur substantially in the thicker portions altogether, to the effect that the latter will become oriented, 13 approximately the same as the thinner portions. Movement continues until all portions reach the wall of blow mold 30. At that time, all bottom parts of the finished bottle are oriented, i.e., the thinner and thicker portions, 49a and 49, respectively in Figure 5. It is noted that without the scallops 20, initiation of the deformation at the intersects of the faces is not guaranteed. It may instead occur randomly, away from that location, resulting in insufficient deformation of said intersects. In other words, it is necessary to weaken the region in which deformation is to commence more than the geometry of the faceintersects can naturally provide. It is to be understood that the invention is not limited to the illustrations described and shown herein, which are deemed to be merely illustrative of the best modes of carrying out the invention, and which are susceptible of modification of form, size, arrangement of parts and details of operation. The invention rather is intended to encompass all such modifications which are within its spirit and scope as defined by the claims', 'Claims': '1. A plastic preform for forming blow molded plastic bottles which comprises a neck portion defining an opening a tubular body portion depending therefrom and an integral bottom structure depending from the tubular body portion said preform having an outside wall face and an inside wall face with the inside wall face of the tubular body portion adjacent the bottom structure and extending onto said bottom structure having a plurality of faces with terminal portions thereof and scallopshaped segments connecting the terminal portions of each face adapted to deform upon exposure to stresses prior to deformation of the faces and thereby become subject to an increased rate and degree of orientation. 2. A preform according to claim 1 wherein said faces are in the form of a polygon. 3. A preform according to claim 1 wherein said faces are flat. 4. A preform according to claim 1 wherein said faces are curved inwardly by reference to said inside wall. 15 5. A preform according to claim 1 wherein said faces are curved outwardly by reference to said inside wall. 6. A preform according to claim 1 wherein the wail thickness adjacent the bottom structure is less than the wall thickness of the tubular body portion. 7. A preform according to claim 1 which is injection molded. 8. A preform according to claim 1 including an axially inwardly directed conical part on said bottom structure. 9. A preform according to claim 1 wherein each of said segments constitutes a segment of a continuous curve. 10. A preform according to claim 9, wherein said curve is a conic section. 1L. A preform according to claim 9 wherein said curve is blended into an adjoining face. 16 12. A blow molded plastic container prepared from the preform of claim 1 by stretch blow melding. 13. The method which comprises providing a Plastic preform having a neck portion defining an cpening, a tubular body portion depending therefrom, and an integral bottom structure depending from the tubular body portion said preform having an outside wall face and an inside wall face with the inside wall face of the tubular body portion adjacent the bottom structure and extending onto said bottom structure having a plurality of faces, deforming said preform to form an oriented plastic bottle, wherein the deformation of the tubular body portion adjacent the bettem structure and extending onte said bottom structure commences at weakened regions between said faces, while the crosssectional temperature distribution thereof is substantially uniform. 14. The method according to claim 13 wherein said weakened regions are scallopshapedc segments. 15. The method according to claim 13 wherein said deformation commencement is followed by eformation of the area adjacent said faces until completion of deformation to form said bottle. 17 16, A plastic preform substantially as herein described with reference to the accompanying drawings. 17, A method of forming an oriented plastic bottle substantially as herein described with reference to the accompanying drawings'}\n"
          ]
        }
      ]
    },
    {
      "cell_type": "code",
      "source": [
        "df['annotations'] = df['label'].apply(lambda x: extract_annotations(x) if pd.notnull(x) else {})\n",
        "\n",
        "# Print a few extracted annotations\n",
        "print(df['annotations'].head())\n"
      ],
      "metadata": {
        "colab": {
          "base_uri": "https://localhost:8080/"
        },
        "id": "Mx4C3UhrXjQ_",
        "outputId": "882ed9d4-7d54-4eb3-8b1b-73cee3b05338"
      },
      "execution_count": 69,
      "outputs": [
        {
          "output_type": "stream",
          "name": "stdout",
          "text": [
            "0    {'Title of the Invention': 'CONTAINER', 'Abstr...\n",
            "1    {'Title of the Invention': 'VENDING MACHINE CO...\n",
            "2    {'Title of the Invention': ' Bluetooth Enabled...\n",
            "Name: annotations, dtype: object\n"
          ]
        }
      ]
    },
    {
      "cell_type": "code",
      "source": [
        "df_annotations = pd.json_normalize(df['annotations'])\n",
        "print(df_annotations.head())  # Check the structure\n"
      ],
      "metadata": {
        "colab": {
          "base_uri": "https://localhost:8080/"
        },
        "id": "hiB3bt9VX-kz",
        "outputId": "1de7214a-56a8-43c8-9036-4d678ca982c2"
      },
      "execution_count": 70,
      "outputs": [
        {
          "output_type": "stream",
          "name": "stdout",
          "text": [
            "                  Title of the Invention  \\\n",
            "0                              CONTAINER   \n",
            "1         VENDING MACHINE COOKING DEVICE   \n",
            "2   Bluetooth Enabled PSSTN Access Point   \n",
            "\n",
            "                                            Abstract  \\\n",
            "0   A plastic prefcrm for fcerming Flow molded pl...   \n",
            "1  A vending machine for vending a cooked product...   \n",
            "2  This invention relates to a means and method f...   \n",
            "\n",
            "                                         Description  \\\n",
            "0  Referring now to the drawings in detail, a pla...   \n",
            "1  The present invention relates to vending machi...   \n",
            "2  Description of embodiments of the invention Th...   \n",
            "\n",
            "                                              Claims  \n",
            "0  1. A plastic preform for forming blow molded p...  \n",
            "1  1. A vending machine for vending a cooked prod...  \n",
            "2  1. A method of managing phone calls on a combi...  \n"
          ]
        }
      ]
    },
    {
      "cell_type": "code",
      "source": [
        "df = pd.concat([df, df_annotations], axis=1)"
      ],
      "metadata": {
        "id": "B0CgSfDFX-g4"
      },
      "execution_count": 71,
      "outputs": []
    },
    {
      "cell_type": "code",
      "source": [
        "df = df.rename(columns={\n",
        "    \"Title of the Invention\": \"Title\",\n",
        "    \"Abstract\": \"Abstract\",\n",
        "    \"Description\": \"Description\",\n",
        "    \"Claims\": \"Claims\"\n",
        "})\n"
      ],
      "metadata": {
        "id": "HaTYJtGIZffA"
      },
      "execution_count": 72,
      "outputs": []
    },
    {
      "cell_type": "code",
      "source": [
        "df = df.drop(columns=['label', 'annotations'], errors='ignore')"
      ],
      "metadata": {
        "id": "RMmv6DG_ZYZP"
      },
      "execution_count": 73,
      "outputs": []
    },
    {
      "cell_type": "code",
      "source": [
        "print(df.head())  # Display the cleaned dataset\n",
        "print(df.columns)  # Check available columns"
      ],
      "metadata": {
        "colab": {
          "base_uri": "https://localhost:8080/"
        },
        "id": "tnWsKVwDX-eF",
        "outputId": "87cca6c4-463e-4649-e2f6-6a1de36f4695"
      },
      "execution_count": 74,
      "outputs": [
        {
          "output_type": "stream",
          "name": "stdout",
          "text": [
            "   annotation_id  annotator                   created_at  id  lead_time  \\\n",
            "0              1          1  2025-03-03T08:20:37.092306Z   1    730.750   \n",
            "1              2          1  2025-03-03T08:35:09.139732Z   2    860.148   \n",
            "2              3          1  2025-03-03T08:44:52.273862Z   3    574.668   \n",
            "\n",
            "                                                text  \\\n",
            "0  SPOOR AND FISHER  FORM P.8. To be lodged in du...   \n",
            "1   D.M. KISCH INC. , Johannesburg Form P.8 REPUB...   \n",
            "2   FORM P8 REPUBLIC OF SOUTH AFRICA PATENTS ACT,...   \n",
            "\n",
            "                    updated_at                                  Title  \\\n",
            "0  2025-03-03T08:20:37.092306Z                              CONTAINER   \n",
            "1  2025-03-03T08:35:09.139732Z         VENDING MACHINE COOKING DEVICE   \n",
            "2  2025-03-03T08:44:52.273862Z   Bluetooth Enabled PSSTN Access Point   \n",
            "\n",
            "                                            Abstract  \\\n",
            "0   A plastic prefcrm for fcerming Flow molded pl...   \n",
            "1  A vending machine for vending a cooked product...   \n",
            "2  This invention relates to a means and method f...   \n",
            "\n",
            "                                         Description  \\\n",
            "0  Referring now to the drawings in detail, a pla...   \n",
            "1  The present invention relates to vending machi...   \n",
            "2  Description of embodiments of the invention Th...   \n",
            "\n",
            "                                              Claims  \n",
            "0  1. A plastic preform for forming blow molded p...  \n",
            "1  1. A vending machine for vending a cooked prod...  \n",
            "2  1. A method of managing phone calls on a combi...  \n",
            "Index(['annotation_id', 'annotator', 'created_at', 'id', 'lead_time', 'text',\n",
            "       'updated_at', 'Title', 'Abstract', 'Description', 'Claims'],\n",
            "      dtype='object')\n"
          ]
        }
      ]
    },
    {
      "cell_type": "code",
      "source": [
        "import pandas as pd\n",
        "\n",
        "# Load the dataset\n",
        "file_path = \"Patent_Annotated_Dataset.csv\"  # Adjust the path if needed\n",
        "df = pd.read_csv(file_path)\n",
        "\n",
        "# Drop unnecessary columns\n",
        "columns_to_drop = ['annotator', 'created_at', 'id', 'lead_time', 'updated_at']\n",
        "df_cleaned = df.drop(columns=columns_to_drop, errors='ignore')\n",
        "\n",
        "# Save the cleaned dataset\n",
        "cleaned_file_path = \"Patent_Annotated_Dataset_Cleaned.csv\"\n",
        "df_cleaned.to_csv(cleaned_file_path, index=False)\n",
        "\n",
        "# Provide download link if using Google Colab\n",
        "from google.colab import files\n",
        "files.download(cleaned_file_path)\n"
      ],
      "metadata": {
        "colab": {
          "base_uri": "https://localhost:8080/",
          "height": 17
        },
        "id": "CVjmbM8CYq6C",
        "outputId": "5ea508d4-9235-4386-88fd-e9e35f086918"
      },
      "execution_count": 77,
      "outputs": [
        {
          "output_type": "display_data",
          "data": {
            "text/plain": [
              "<IPython.core.display.Javascript object>"
            ],
            "application/javascript": [
              "\n",
              "    async function download(id, filename, size) {\n",
              "      if (!google.colab.kernel.accessAllowed) {\n",
              "        return;\n",
              "      }\n",
              "      const div = document.createElement('div');\n",
              "      const label = document.createElement('label');\n",
              "      label.textContent = `Downloading \"${filename}\": `;\n",
              "      div.appendChild(label);\n",
              "      const progress = document.createElement('progress');\n",
              "      progress.max = size;\n",
              "      div.appendChild(progress);\n",
              "      document.body.appendChild(div);\n",
              "\n",
              "      const buffers = [];\n",
              "      let downloaded = 0;\n",
              "\n",
              "      const channel = await google.colab.kernel.comms.open(id);\n",
              "      // Send a message to notify the kernel that we're ready.\n",
              "      channel.send({})\n",
              "\n",
              "      for await (const message of channel.messages) {\n",
              "        // Send a message to notify the kernel that we're ready.\n",
              "        channel.send({})\n",
              "        if (message.buffers) {\n",
              "          for (const buffer of message.buffers) {\n",
              "            buffers.push(buffer);\n",
              "            downloaded += buffer.byteLength;\n",
              "            progress.value = downloaded;\n",
              "          }\n",
              "        }\n",
              "      }\n",
              "      const blob = new Blob(buffers, {type: 'application/binary'});\n",
              "      const a = document.createElement('a');\n",
              "      a.href = window.URL.createObjectURL(blob);\n",
              "      a.download = filename;\n",
              "      div.appendChild(a);\n",
              "      a.click();\n",
              "      div.remove();\n",
              "    }\n",
              "  "
            ]
          },
          "metadata": {}
        },
        {
          "output_type": "display_data",
          "data": {
            "text/plain": [
              "<IPython.core.display.Javascript object>"
            ],
            "application/javascript": [
              "download(\"download_4836b1cd-c667-4bd9-a2ca-2909afc52b05\", \"Patent_Annotated_Dataset_Cleaned.csv\", 87614)"
            ]
          },
          "metadata": {}
        }
      ]
    },
    {
      "cell_type": "markdown",
      "source": [
        "The following is data analyses"
      ],
      "metadata": {
        "id": "LX4IpfQCiHqq"
      }
    },
    {
      "cell_type": "code",
      "source": [
        "import pandas as pd\n",
        "import matplotlib.pyplot as plt\n",
        "import seaborn as sns\n",
        "from wordcloud import WordCloud\n",
        "from collections import Counter\n",
        "import numpy as np\n",
        "import re"
      ],
      "metadata": {
        "id": "s63PeLZyYq2Z"
      },
      "execution_count": 78,
      "outputs": []
    },
    {
      "cell_type": "code",
      "source": [
        "# Load the dataset\n",
        "file_path = \"Patent_Annotated_Dataset_Cleaned.csv\"\n",
        "df = pd.read_csv(file_path)"
      ],
      "metadata": {
        "id": "qv21n22JYqzk"
      },
      "execution_count": 79,
      "outputs": []
    },
    {
      "cell_type": "code",
      "source": [
        "# Display basic dataset information\n",
        "print(\"Dataset Info:\")\n",
        "df.info()\n",
        "print(\"\\nBasic Statistics:\")\n",
        "print(df.describe(include='all'))"
      ],
      "metadata": {
        "colab": {
          "base_uri": "https://localhost:8080/"
        },
        "id": "Gu2cAuaJYdCD",
        "outputId": "f956ee32-a992-4df8-a12a-a115149281ef"
      },
      "execution_count": 80,
      "outputs": [
        {
          "output_type": "stream",
          "name": "stdout",
          "text": [
            "Dataset Info:\n",
            "<class 'pandas.core.frame.DataFrame'>\n",
            "RangeIndex: 3 entries, 0 to 2\n",
            "Data columns (total 6 columns):\n",
            " #   Column         Non-Null Count  Dtype \n",
            "---  ------         --------------  ----- \n",
            " 0   annotation_id  3 non-null      int64 \n",
            " 1   text           3 non-null      object\n",
            " 2   Title          3 non-null      object\n",
            " 3   Abstract       3 non-null      object\n",
            " 4   Description    3 non-null      object\n",
            " 5   Claims         3 non-null      object\n",
            "dtypes: int64(1), object(5)\n",
            "memory usage: 276.0+ bytes\n",
            "\n",
            "Basic Statistics:\n",
            "        annotation_id                                               text  \\\n",
            "count             3.0                                                  3   \n",
            "unique            NaN                                                  3   \n",
            "top               NaN  SPOOR AND FISHER  FORM P.8. To be lodged in du...   \n",
            "freq              NaN                                                  1   \n",
            "mean              2.0                                                NaN   \n",
            "std               1.0                                                NaN   \n",
            "min               1.0                                                NaN   \n",
            "25%               1.5                                                NaN   \n",
            "50%               2.0                                                NaN   \n",
            "75%               2.5                                                NaN   \n",
            "max               3.0                                                NaN   \n",
            "\n",
            "            Title                                           Abstract  \\\n",
            "count           3                                                  3   \n",
            "unique          3                                                  3   \n",
            "top     CONTAINER   A plastic prefcrm for fcerming Flow molded pl...   \n",
            "freq            1                                                  1   \n",
            "mean          NaN                                                NaN   \n",
            "std           NaN                                                NaN   \n",
            "min           NaN                                                NaN   \n",
            "25%           NaN                                                NaN   \n",
            "50%           NaN                                                NaN   \n",
            "75%           NaN                                                NaN   \n",
            "max           NaN                                                NaN   \n",
            "\n",
            "                                              Description  \\\n",
            "count                                                   3   \n",
            "unique                                                  3   \n",
            "top     Referring now to the drawings in detail, a pla...   \n",
            "freq                                                    1   \n",
            "mean                                                  NaN   \n",
            "std                                                   NaN   \n",
            "min                                                   NaN   \n",
            "25%                                                   NaN   \n",
            "50%                                                   NaN   \n",
            "75%                                                   NaN   \n",
            "max                                                   NaN   \n",
            "\n",
            "                                                   Claims  \n",
            "count                                                   3  \n",
            "unique                                                  3  \n",
            "top     1. A plastic preform for forming blow molded p...  \n",
            "freq                                                    1  \n",
            "mean                                                  NaN  \n",
            "std                                                   NaN  \n",
            "min                                                   NaN  \n",
            "25%                                                   NaN  \n",
            "50%                                                   NaN  \n",
            "75%                                                   NaN  \n",
            "max                                                   NaN  \n"
          ]
        }
      ]
    },
    {
      "cell_type": "code",
      "source": [
        "# Check for missing values\n",
        "print(\"\\nMissing Values:\")\n",
        "print(df.isnull().sum())"
      ],
      "metadata": {
        "colab": {
          "base_uri": "https://localhost:8080/"
        },
        "id": "qvFZcMovX-aU",
        "outputId": "4dc85bce-6859-474c-ee56-6797892f2861"
      },
      "execution_count": 81,
      "outputs": [
        {
          "output_type": "stream",
          "name": "stdout",
          "text": [
            "\n",
            "Missing Values:\n",
            "annotation_id    0\n",
            "text             0\n",
            "Title            0\n",
            "Abstract         0\n",
            "Description      0\n",
            "Claims           0\n",
            "dtype: int64\n"
          ]
        }
      ]
    },
    {
      "cell_type": "code",
      "source": [
        "# Check for duplicates\n",
        "print(\"\\nDuplicate Rows:\", df.duplicated().sum())"
      ],
      "metadata": {
        "colab": {
          "base_uri": "https://localhost:8080/"
        },
        "id": "3h8udnPdjzMm",
        "outputId": "b874a76e-0b2d-4400-9666-f44fffb5db60"
      },
      "execution_count": 82,
      "outputs": [
        {
          "output_type": "stream",
          "name": "stdout",
          "text": [
            "\n",
            "Duplicate Rows: 0\n"
          ]
        }
      ]
    },
    {
      "cell_type": "code",
      "source": [
        "# Distribution of text lengths\n",
        "def text_length_distribution(column_name):\n",
        "    df[column_name + '_length'] = df[column_name].astype(str).apply(len)\n",
        "    plt.figure(figsize=(10, 5))\n",
        "    sns.histplot(df[column_name + '_length'], bins=30, kde=True)\n",
        "    plt.title(f\"Distribution of {column_name} Lengths\")\n",
        "    plt.xlabel(\"Number of Characters\")\n",
        "    plt.ylabel(\"Frequency\")\n",
        "    plt.show()\n",
        "\n",
        "for col in ['Title', 'Abstract', 'Description', 'Claims']:\n",
        "    text_length_distribution(col)"
      ],
      "metadata": {
        "colab": {
          "base_uri": "https://localhost:8080/",
          "height": 1000
        },
        "id": "xr2CGPGjj7E-",
        "outputId": "8ab9be61-4187-413f-e397-84482535e088"
      },
      "execution_count": 83,
      "outputs": [
        {
          "output_type": "display_data",
          "data": {
            "text/plain": [
              "<Figure size 1000x500 with 1 Axes>"
            ],
            "image/png": "[encoded data removed]"
          },
          "metadata": {}
        },
        {
          "output_type": "display_data",
          "data": {
            "text/plain": [
              "<Figure size 1000x500 with 1 Axes>"
            ],
            "image/png": "[encoded data removed]"
          },
          "metadata": {}
        },
        {
          "output_type": "display_data",
          "data": {
            "text/plain": [
              "<Figure size 1000x500 with 1 Axes>"
            ],
            "image/png": "[encoded data removed]"
          },
          "metadata": {}
        },
        {
          "output_type": "display_data",
          "data": {
            "text/plain": [
              "<Figure size 1000x500 with 1 Axes>"
            ],
            "image/png": "[encoded data removed]"
          },
          "metadata": {}
        }
      ]
    },
    {
      "cell_type": "code",
      "source": [
        "# Word frequency analysis\n",
        "def get_most_common_words(column, num_words=20):\n",
        "    all_text = ' '.join(df[column].dropna().astype(str).str.lower())\n",
        "    words = re.findall(r'\\b[a-zA-Z]{3,}\\b', all_text)  # Extract words with at least 3 letters\n",
        "    word_counts = Counter(words).most_common(num_words)\n",
        "    return word_counts\n",
        "\n",
        "for col in ['Title', 'Abstract', 'Claims']:\n",
        "    print(f\"\\nMost common words in {col}:\")\n",
        "    print(get_most_common_words(col))"
      ],
      "metadata": {
        "colab": {
          "base_uri": "https://localhost:8080/"
        },
        "id": "63NPxdsRkBCe",
        "outputId": "1ca463f6-2a22-40db-aae3-431f4cd18609"
      },
      "execution_count": 84,
      "outputs": [
        {
          "output_type": "stream",
          "name": "stdout",
          "text": [
            "\n",
            "Most common words in Title:\n",
            "[('container', 1), ('vending', 1), ('machine', 1), ('cooking', 1), ('device', 1), ('bluetooth', 1), ('enabled', 1), ('psstn', 1), ('access', 1), ('point', 1)]\n",
            "\n",
            "Most common words in Abstract:\n",
            "[('the', 26), ('and', 12), ('vessel', 7), ('for', 6), ('bottom', 5), ('phone', 5), ('network', 5), ('has', 4), ('central', 4), ('bluetooth', 4), ('adjacent', 3), ('cooking', 3), ('disposed', 3), ('its', 3), ('axis', 3), ('drive', 3), ('baskets', 3), ('mechanism', 3), ('plastic', 2), ('face', 2)]\n",
            "\n",
            "Most common words in Claims:\n",
            "[('the', 193), ('and', 46), ('phone', 41), ('wireless', 34), ('according', 33), ('pstn', 30), ('calls', 28), ('protocol', 28), ('transceiver', 28), ('mobile', 24), ('network', 23), ('said', 21), ('claim', 21), ('method', 19), ('preform', 17), ('line', 17), ('including', 16), ('managing', 16), ('which', 15), ('wherein', 15)]\n"
          ]
        }
      ]
    },
    {
      "cell_type": "code",
      "source": [
        "import json\n",
        "import pandas as pd\n",
        "\n",
        "# Load the cleaned dataset\n",
        "csv_path = \"Patent_Annotated_Dataset_Cleaned.csv\"\n",
        "df = pd.read_csv(csv_path)\n",
        "\n",
        "# Initialize COCO format structure\n",
        "coco_format = {\n",
        "    \"info\": {\n",
        "        \"description\": \"Patent Dataset\",\n",
        "        \"version\": \"1.0\",\n",
        "        \"year\": 2025,\n",
        "        \"contributor\": \"SA Patent Intelligence Initiative\",\n",
        "        \"date_created\": \"2025-03-05\"\n",
        "    },\n",
        "    \"licenses\": [],\n",
        "    \"categories\": [\n",
        "        {\"id\": 1, \"name\": \"Title\", \"supercategory\": \"text\"},\n",
        "        {\"id\": 2, \"name\": \"Abstract\", \"supercategory\": \"text\"},\n",
        "        {\"id\": 3, \"name\": \"Description\", \"supercategory\": \"text\"},\n",
        "        {\"id\": 4, \"name\": \"Claims\", \"supercategory\": \"text\"}\n",
        "    ],\n",
        "    \"images\": [],\n",
        "    \"annotations\": []\n",
        "}\n",
        "\n",
        "# Convert patents into \"images\"\n",
        "for idx, row in df.iterrows():\n",
        "    image_id = idx + 1  # Unique identifier for each patent\n",
        "    coco_format[\"images\"].append({\n",
        "        \"id\": image_id,\n",
        "        \"file_name\": f\"patent_{image_id}.txt\",  # Simulating a file representation\n",
        "        \"width\": None,\n",
        "        \"height\": None\n",
        "    })\n",
        "\n",
        "    # Convert text fields into \"annotations\"\n",
        "    for category in [\"Title\", \"Abstract\", \"Description\", \"Claims\"]:\n",
        "        annotation_id = len(coco_format[\"annotations\"]) + 1\n",
        "        coco_format[\"annotations\"].append({\n",
        "            \"id\": annotation_id,\n",
        "            \"image_id\": image_id,\n",
        "            \"category_id\": [c[\"id\"] for c in coco_format[\"categories\"] if c[\"name\"] == category][0],\n",
        "            \"bbox\": None,  # Bounding box not applicable for text\n",
        "            \"segmentation\": None,  # Segmentation not applicable for text\n",
        "            \"text\": row[category],  # Store actual text content\n",
        "            \"area\": len(str(row[category]))  # Length of text as a placeholder for area\n",
        "        })\n",
        "\n",
        "# Save to JSON file\n",
        "coco_json_path = \"Patent_COCO_Format.json\"\n",
        "with open(coco_json_path, \"w\", encoding=\"utf-8\") as f:\n",
        "    json.dump(coco_format, f, ensure_ascii=False, indent=4)\n",
        "\n",
        "print(f\"COCO-formatted dataset saved as {coco_json_path}\")\n"
      ],
      "metadata": {
        "colab": {
          "base_uri": "https://localhost:8080/"
        },
        "id": "ai6ybLUnk28H",
        "outputId": "15d17e1c-1648-43c7-9489-06249f3e2dbf"
      },
      "execution_count": 87,
      "outputs": [
        {
          "output_type": "stream",
          "name": "stdout",
          "text": [
            "COCO-formatted dataset saved as Patent_COCO_Format.json\n"
          ]
        }
      ]
    }
  ]
}